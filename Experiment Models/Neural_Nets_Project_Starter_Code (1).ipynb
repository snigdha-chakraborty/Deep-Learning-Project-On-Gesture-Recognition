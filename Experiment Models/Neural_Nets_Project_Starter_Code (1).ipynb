{
  "nbformat": 4,
  "nbformat_minor": 0,
  "metadata": {
    "accelerator": "GPU",
    "colab": {
      "name": "Neural_Nets_Project_Starter_Code.ipynb",
      "provenance": [],
      "collapsed_sections": [],
      "toc_visible": true
    },
    "kernelspec": {
      "display_name": "Python 3",
      "language": "python",
      "name": "python3"
    },
    "language_info": {
      "codemirror_mode": {
        "name": "ipython",
        "version": 3
      },
      "file_extension": ".py",
      "mimetype": "text/x-python",
      "name": "python",
      "nbconvert_exporter": "python",
      "pygments_lexer": "ipython3",
      "version": "3.6.5"
    }
  },
  "cells": [
    {
      "cell_type": "markdown",
      "metadata": {
        "id": "s5mG5qGCzzLy"
      },
      "source": [
        "# Gesture Recognition\n",
        "In this group project, you are going to build a 3D Conv model that will be able to predict the 5 gestures correctly. Please import the following libraries to get started."
      ]
    },
    {
      "cell_type": "code",
      "metadata": {
        "id": "6YO3ykaFzzL3"
      },
      "source": [
        "import numpy as np\n",
        "import os\n",
        "#from scipy.misc import imread, imresize\n",
        "import datetime\n",
        "import os\n",
        "\n",
        "import warnings\n",
        "warnings.filterwarnings(\"ignore\")\n",
        "\n",
        "import matplotlib.pyplot as plt\n",
        "%matplotlib inline\n",
        "\n",
        "from skimage.transform import resize\n",
        "from imageio import imread\n",
        "\n",
        "import cv2"
      ],
      "execution_count": 2,
      "outputs": []
    },
    {
      "cell_type": "markdown",
      "metadata": {
        "id": "vNEpVdXXzzL4"
      },
      "source": [
        "We set the random seed so that the results don't vary drastically."
      ]
    },
    {
      "cell_type": "code",
      "metadata": {
        "id": "S7pXpoztzzL4"
      },
      "source": [
        "np.random.seed(30)\n",
        "import random as rn\n",
        "rn.seed(30)\n",
        "from keras import backend as K\n",
        "import tensorflow as tf\n",
        "tf.random.set_seed(30)"
      ],
      "execution_count": 3,
      "outputs": []
    },
    {
      "cell_type": "code",
      "metadata": {
        "id": "e5AJD7zz6QYD"
      },
      "source": [
        "# function to plot the training/validation accuracies/losses.\n",
        "\n",
        "def plot(history):\n",
        "    fig, axes = plt.subplots(nrows=1, ncols=2, figsize=(15,4))\n",
        "    axes[0].plot(history.history['loss'])   \n",
        "    axes[0].plot(history.history['val_loss'])\n",
        "    axes[0].grid()\n",
        "    axes[0].legend(['loss','val_loss'])\n",
        "    axes[1].plot(history.history['categorical_accuracy'])   \n",
        "    axes[1].plot(history.history['val_categorical_accuracy'])\n",
        "    axes[1].grid()\n",
        "    axes[1].legend(['categorical_accuracy','val_categorical_accuracy'])"
      ],
      "execution_count": 4,
      "outputs": []
    },
    {
      "cell_type": "markdown",
      "metadata": {
        "id": "V0DlSW8lzzL4"
      },
      "source": [
        "In this block, you read the folder names for training and validation. You also set the `batch_size` here. Note that you set the batch size in such a way that you are able to use the GPU in full capacity. You keep increasing the batch size until the machine throws an error."
      ]
    },
    {
      "cell_type": "code",
      "metadata": {
        "colab": {
          "base_uri": "https://localhost:8080/"
        },
        "id": "SlDvF5JyAc9K",
        "outputId": "f7b78e7c-8267-41c0-9861-07303b892700"
      },
      "source": [
        "## If you are using the data by mounting the google drive, use the following :\n",
        "from google.colab import drive\n",
        "drive.mount('/content/gdrive')"
      ],
      "execution_count": 5,
      "outputs": [
        {
          "output_type": "stream",
          "text": [
            "Mounted at /content/gdrive\n"
          ],
          "name": "stdout"
        }
      ]
    },
    {
      "cell_type": "code",
      "metadata": {
        "id": "uFp5fNJbdeMM"
      },
      "source": [
        "!unzip -q '/content/gdrive/MyDrive/Project_data.zip' -d '/content/gdrive/MyDrive'"
      ],
      "execution_count": null,
      "outputs": []
    },
    {
      "cell_type": "code",
      "metadata": {
        "id": "TbgZ9y6izzL5"
      },
      "source": [
        "train_doc = np.random.permutation(open('/content/gdrive/MyDrive/Project_data/train.csv').readlines())\n",
        "val_doc = np.random.permutation(open('/content/gdrive/MyDrive/Project_data/val.csv').readlines())\n",
        "batch_size = 64 #experiment with the batch size"
      ],
      "execution_count": 6,
      "outputs": []
    },
    {
      "cell_type": "code",
      "metadata": {
        "id": "o1d_PdaIlU_5"
      },
      "source": [
        "sample_image = os.listdir('/content/gdrive/MyDrive/Project_data/train'+'/'+ np.random.permutation(train_doc)[0 + (0)].split(';')[0])"
      ],
      "execution_count": null,
      "outputs": []
    },
    {
      "cell_type": "code",
      "metadata": {
        "colab": {
          "base_uri": "https://localhost:8080/"
        },
        "id": "A_GaWL0VlgHv",
        "outputId": "3c507971-d81d-4f46-d1e7-b3d51aad1ef5"
      },
      "source": [
        "print(sample_image)"
      ],
      "execution_count": null,
      "outputs": [
        {
          "output_type": "stream",
          "text": [
            "['WIN_20180926_17_24_58_Pro_00051.png', 'WIN_20180926_17_24_58_Pro_00041.png', 'WIN_20180926_17_24_58_Pro_00009.png', 'WIN_20180926_17_24_58_Pro_00025.png', 'WIN_20180926_17_24_58_Pro_00027.png', 'WIN_20180926_17_24_58_Pro_00045.png', 'WIN_20180926_17_24_58_Pro_00015.png', 'WIN_20180926_17_24_58_Pro_00061.png', 'WIN_20180926_17_24_58_Pro_00031.png', 'WIN_20180926_17_24_58_Pro_00023.png', 'WIN_20180926_17_24_58_Pro_00017.png', 'WIN_20180926_17_24_58_Pro_00007.png', 'WIN_20180926_17_24_58_Pro_00029.png', 'WIN_20180926_17_24_58_Pro_00011.png', 'WIN_20180926_17_24_58_Pro_00063.png', 'WIN_20180926_17_24_58_Pro_00057.png', 'WIN_20180926_17_24_58_Pro_00053.png', 'WIN_20180926_17_24_58_Pro_00019.png', 'WIN_20180926_17_24_58_Pro_00065.png', 'WIN_20180926_17_24_58_Pro_00047.png', 'WIN_20180926_17_24_58_Pro_00035.png', 'WIN_20180926_17_24_58_Pro_00043.png', 'WIN_20180926_17_24_58_Pro_00013.png', 'WIN_20180926_17_24_58_Pro_00033.png', 'WIN_20180926_17_24_58_Pro_00055.png', 'WIN_20180926_17_24_58_Pro_00059.png', 'WIN_20180926_17_24_58_Pro_00037.png', 'WIN_20180926_17_24_58_Pro_00049.png', 'WIN_20180926_17_24_58_Pro_00039.png', 'WIN_20180926_17_24_58_Pro_00021.png']\n"
          ],
          "name": "stdout"
        }
      ]
    },
    {
      "cell_type": "code",
      "metadata": {
        "id": "xBnVAzjWmEA-"
      },
      "source": [
        "sample_path = '/content/gdrive/MyDrive/Project_data/train'+'/'+ train_doc[0].split(';')[0]\n",
        "sample = imread(sample_path+'/'+os.listdir(sample_path)[0])"
      ],
      "execution_count": null,
      "outputs": []
    },
    {
      "cell_type": "code",
      "metadata": {
        "colab": {
          "base_uri": "https://localhost:8080/",
          "height": 268
        },
        "id": "-zbmsHotloHT",
        "outputId": "a404cb70-0f5b-491c-cfe4-e841ee36d2d6"
      },
      "source": [
        "plt.imshow(sample)\n",
        "plt.show()"
      ],
      "execution_count": null,
      "outputs": [
        {
          "output_type": "display_data",
          "data": {
            "image/png": "[encoded data removed]",
            "text/plain": [
              "<Figure size 432x288 with 1 Axes>"
            ]
          },
          "metadata": {
            "tags": []
          }
        }
      ]
    },
    {
      "cell_type": "code",
      "metadata": {
        "colab": {
          "base_uri": "https://localhost:8080/"
        },
        "id": "7KbjNeKomqE4",
        "outputId": "b387cd24-ec65-4777-96a0-44297d073e44"
      },
      "source": [
        "sample.shape"
      ],
      "execution_count": null,
      "outputs": [
        {
          "output_type": "execute_result",
          "data": {
            "text/plain": [
              "(120, 160, 3)"
            ]
          },
          "metadata": {
            "tags": []
          },
          "execution_count": 11
        }
      ]
    },
    {
      "cell_type": "code",
      "metadata": {
        "id": "6mrZMRTxsXMd"
      },
      "source": [
        "img_height = 120\n",
        "img_width = 120\n",
        "channels = 3"
      ],
      "execution_count": 7,
      "outputs": []
    },
    {
      "cell_type": "code",
      "metadata": {
        "colab": {
          "base_uri": "https://localhost:8080/"
        },
        "id": "UYzkvHOltPvV",
        "outputId": "c18bee67-dd5f-4376-b06b-dce9e0138533"
      },
      "source": [
        "num_classes = 5\n",
        "print ('# classification classes =', num_classes)"
      ],
      "execution_count": 8,
      "outputs": [
        {
          "output_type": "stream",
          "text": [
            "# classification classes = 5\n"
          ],
          "name": "stdout"
        }
      ]
    },
    {
      "cell_type": "code",
      "metadata": {
        "id": "EPEfQrIwmuAA"
      },
      "source": [
        "sample = resize(sample,(img_height,img_width,3))"
      ],
      "execution_count": null,
      "outputs": []
    },
    {
      "cell_type": "code",
      "metadata": {
        "colab": {
          "base_uri": "https://localhost:8080/",
          "height": 268
        },
        "id": "RD5iqyjSnW6g",
        "outputId": "6fb44dfb-cc26-4117-b5ba-23235d1a3c05"
      },
      "source": [
        "plt.imshow(sample)\n",
        "plt.show()"
      ],
      "execution_count": null,
      "outputs": [
        {
          "output_type": "display_data",
          "data": {
            "image/png": "[encoded data removed]",
            "text/plain": [
              "<Figure size 432x288 with 1 Axes>"
            ]
          },
          "metadata": {
            "tags": []
          }
        }
      ]
    },
    {
      "cell_type": "markdown",
      "metadata": {
        "id": "U3OF5tCZzzL5"
      },
      "source": [
        "## Generator\n",
        "This is one of the most important part of the code. The overall structure of the generator has been given. In the generator, you are going to preprocess the images as you have images of 2 different dimensions as well as create a batch of video frames. You have to experiment with `img_idx`, `y`,`z` and normalization such that you get high accuracy."
      ]
    },
    {
      "cell_type": "code",
      "metadata": {
        "id": "LAOlg7jfzzL5"
      },
      "source": [
        "def generator(source_path, folder_list, batch_size):\n",
        "    print( 'Source path = ', source_path, '; batch size =', batch_size)\n",
        "    img_idx = np.round(np.linspace(0,29,16)).astype(int) #[0,2,4,6,8,10,12,14,16,18,20,22,24,25,26,27,28,29] #create a list of image numbers you want to use for a particular video\n",
        "    while True:\n",
        "        t = np.random.permutation(folder_list)\n",
        "        num_batches = int(len(t)/batch_size) #calculate the number of batches\n",
        "        for batch in range(num_batches): # we iterate over the number of batches\n",
        "            batch_data = np.zeros((batch_size,len(img_idx),img_height,img_width,3)) # x is the number of images you use for each video, (y,z) is the final size of the input images and 3 is the number of channels RGB\n",
        "            batch_labels = np.zeros((batch_size,5)) # batch_labels is the one hot representation of the output\n",
        "            for folder in range(batch_size): # iterate over the batch_size\n",
        "                imgs = os.listdir(source_path+'/'+ t[folder + (batch*batch_size)].split(';')[0]) # read all the images in the folder\n",
        "                for idx,item in enumerate(img_idx): #  Iterate iver the frames/images of a folder to read them in\n",
        "                    image = imread(source_path+'/'+ t[folder + (batch*batch_size)].strip().split(';')[0]+'/'+imgs[item]).astype(np.float32)\n",
        "                    \n",
        "                    # resize\n",
        "                    image = resize(image,(img_height,img_width,3))\n",
        "                    #if image.shape[1] == 160:\n",
        "                      #image = imresize(image[:,20:140,:],(50,50)).astype(np.float32)\n",
        "                   # else:\n",
        "                      #image = imresize(image,(50,50)).astype(np.float32)\n",
        "                    \n",
        "                    #crop the images and resize them. Note that the images are of 2 different shape \n",
        "                    #and the conv3D will throw error if the inputs in a batch have different shapes\n",
        "\n",
        "                    batch_data[folder,idx,:,:,0] = image[:,:,0] - 104 #normalise and feed in the image\n",
        "                    batch_data[folder,idx,:,:,1] = image[:,:,1] - 117 #normalise and feed in the image\n",
        "                    batch_data[folder,idx,:,:,2] = image[:,:,2] - 123 #normalise and feed in the image\n",
        "                    \n",
        "                batch_labels[folder, int(t[folder + (batch*batch_size)].strip().split(';')[2])] = 1\n",
        "\n",
        "            yield batch_data, batch_labels #you yield the batch_data and the batch_labels, remember what does yield do\n",
        "        \n",
        "        # write the code for the remaining data points which are left after full batches\n",
        "        rem_image = len(t)%batch_size\n",
        "        if (rem_image!=0):\n",
        "            batch_data = np.zeros((rem_image,len(img_idx),img_height,img_width,3)) # x is the number of images you use for each video, (y,z) is the final size of the input images and 3 is the number of channels RGB\n",
        "            batch_labels = np.zeros((rem_image,5)) # batch_labels is the one hot representation of the output\n",
        "            for folder in range(rem_image): # iterate over the batch_size\n",
        "                imgs = os.listdir(source_path+'/'+ t[folder + (num_batches*batch_size)].split(';')[0]) # read all the images in the folder\n",
        "                for idx,item in enumerate(img_idx): #  Iterate iver the frames/images of a folder to read them in\n",
        "                    image = imread(source_path+'/'+ t[folder + (num_batches*batch_size)].strip().split(';')[0]+'/'+imgs[item]).astype(np.float32)\n",
        "                    \n",
        "                    # resize\n",
        "                    image = resize(image,(img_height,img_width,3))\n",
        "                    #if image.shape[1] == 160:\n",
        "                      #image = imresize(image[:,20:140,:],(50,50)).astype(np.float32)\n",
        "                   # else:\n",
        "                      #image = imresize(image,(50,50)).astype(np.float32)\n",
        "\n",
        "                    #crop the images and resize them. Note that the images are of 2 different shape \n",
        "                    #and the conv3D will throw error if the inputs in a batch have different shapes\n",
        "                    \n",
        "                    batch_data[folder,idx,:,:,0] = image[:,:,0] - 104\n",
        "                    batch_data[folder,idx,:,:,1] = image[:,:,1] - 117\n",
        "                    batch_data[folder,idx,:,:,2] = image[:,:,2] - 123\n",
        "                    \n",
        "                batch_labels[folder, int(t[folder + (batch*batch_size)].strip().split(';')[2])] = 1\n",
        "            yield batch_data, batch_labels\n"
      ],
      "execution_count": null,
      "outputs": []
    },
    {
      "cell_type": "markdown",
      "metadata": {
        "id": "AesSLmJ6w_be"
      },
      "source": [
        "##Generator with Data Augmentation"
      ]
    },
    {
      "cell_type": "code",
      "metadata": {
        "id": "xGy5pDmhbC_6"
      },
      "source": [
        "batch_size = 25"
      ],
      "execution_count": 9,
      "outputs": []
    },
    {
      "cell_type": "code",
      "metadata": {
        "id": "e2Xq1HAqjrX5"
      },
      "source": [
        "augment = True\n",
        "def generator(source_path, folder_list, batch_size):\n",
        "    print( 'Source path = ', source_path, '; batch size =', batch_size)\n",
        "    img_idx = np.round(np.linspace(0,29,16)).astype(int) #create a list of image numbers you want to use for a particular video\n",
        "    while True:\n",
        "        t = np.random.permutation(folder_list)\n",
        "        num_batches = int(len(t)/batch_size) #calculate the number of batches\n",
        "        for batch in range(num_batches): # we iterate over the number of batches # batch_labels is the one hot representation of the output\n",
        "            batch_data, batch_labels= one_batch_data(source_path,t,batch,batch_size,img_idx,augment)\n",
        "            yield batch_data, batch_labels\n",
        "\n",
        "        #the code for the remaining data points which are left after full batches\n",
        "        remaining_seq=len(t)%batch_size        \n",
        "        if (remaining_seq != 0):\n",
        "            batch_data, batch_labels= one_batch_data(source_path,t,num_batches,batch_size,img_idx,augment,remaining_seq)\n",
        "            yield batch_data, batch_labels \n",
        "\n",
        "def one_batch_data(source_path,t,batch,batch_size,img_idx,augment,remaining_seq=0):\n",
        "     #print( 'Source path = ', source_path, '; batch size =', batch_size)\n",
        "\n",
        "     seq_len = remaining_seq if remaining_seq else batch_size\n",
        "\n",
        "     batch_data = np.zeros((seq_len,len(img_idx),img_height,img_width,channels)) \n",
        "     batch_labels = np.zeros((seq_len,num_classes)) \n",
        "    \n",
        "     if (augment): \n",
        "        batch_data_aug = np.zeros((seq_len,len(img_idx),img_height,img_width,channels))\n",
        "        \n",
        "     for folder in range(seq_len): \n",
        "        imgs = os.listdir(source_path+'/'+ t[folder + (batch*batch_size)].split(';')[0]) \n",
        "        for idx,item in enumerate(img_idx):           \n",
        "              \n",
        "            #crop the images and resize them. Note that the images are of 2 different shape \n",
        "            #and the conv3D will throw error if the inputs in a batch have different shape\n",
        "\n",
        "            #image reading and image resizing\n",
        "            image = imread(source_path+'/'+ t[folder + (batch*batch_size)].strip().split(';')[0]+'/'+imgs[item]).astype(np.float32)\n",
        "            image_resized=resize(image,(img_height,img_width,3))\n",
        "            \n",
        "            # normalize and feed in the image\n",
        "            batch_data[folder,idx,:,:,0] = (image_resized[:,:,0])/255\n",
        "            batch_data[folder,idx,:,:,1] = (image_resized[:,:,1])/255\n",
        "            batch_data[folder,idx,:,:,2] = (image_resized[:,:,2])/255\n",
        "          \n",
        "            if (augment):\n",
        "                shifted = cv2.warpAffine(image, \n",
        "                                         np.float32([[1, 0, np.random.randint(-30,30)],[0, 1, np.random.randint(-30,30)]]), \n",
        "                                         (image.shape[1], image.shape[0]))\n",
        "                    \n",
        "                gray = cv2.cvtColor(shifted,cv2.COLOR_BGR2GRAY)\n",
        "\n",
        "                x0, y0 = np.argwhere(gray > 0).min(axis=0)\n",
        "                x1, y1 = np.argwhere(gray > 0).max(axis=0) \n",
        "\n",
        "                # cropping the images to have the targeted gestures and remove the noise from the images.\n",
        "                cropped=shifted[x0:x1,y0:y1,:]\n",
        "                    \n",
        "                image_resized=resize(cropped,(img_height,img_width,3))\n",
        "                M = cv2.getRotationMatrix2D((img_width//2,img_height//2),np.random.randint(-10,10), 1.0)\n",
        "                rotated = cv2.warpAffine(image_resized, M, (img_width, img_height))\n",
        "\n",
        "                batch_data_aug[folder,idx,:,:,0] = (image_resized[:,:,0])/255\n",
        "                batch_data_aug[folder,idx,:,:,1] = (image_resized[:,:,1])/255\n",
        "                batch_data_aug[folder,idx,:,:,2] = (image_resized[:,:,2])/255                \n",
        "            \n",
        "        batch_labels[folder, int(t[folder + (batch*batch_size)].strip().split(';')[2])] = 1           \n",
        "    \n",
        "     if (augment):\n",
        "        batch_data=np.concatenate([batch_data,batch_data_aug])\n",
        "        batch_labels=np.concatenate([batch_labels,batch_labels])\n",
        "        \n",
        "     return (batch_data,batch_labels)"
      ],
      "execution_count": 10,
      "outputs": []
    },
    {
      "cell_type": "markdown",
      "metadata": {
        "id": "l6xvRodw3UBR"
      },
      "source": [
        "# For CNN+RNN\n",
        "\n",
        "Please select further lesser no of images as the computation part is going to be too heavy. My advice will be to select 12 to 14 images.\n",
        "\n",
        "Rest all of the above code will remain the same."
      ]
    },
    {
      "cell_type": "markdown",
      "metadata": {
        "id": "PuvRcRqMzzL6"
      },
      "source": [
        "Note here that a video is represented above in the generator as (number of images, height, width, number of channels). Take this into consideration while creating the model architecture.\n",
        "\n",
        "__Why are we using datetime?__\n",
        "\n",
        "Because we will be creating multiple models and we dont wish to overwrite a new model over the older one. Therefore, saving it along with the timestamp helps."
      ]
    },
    {
      "cell_type": "code",
      "metadata": {
        "colab": {
          "base_uri": "https://localhost:8080/"
        },
        "id": "BP7WItzEzzL6",
        "outputId": "768105c2-7ac7-47ad-aedb-81d370cf9d8a"
      },
      "source": [
        "curr_dt_time = datetime.datetime.now()\n",
        "train_path = '/content/gdrive/MyDrive/Project_data/train'\n",
        "val_path = '/content/gdrive/MyDrive/Project_data/val'\n",
        "num_train_sequences = len(train_doc)\n",
        "print('# training sequences =', num_train_sequences)\n",
        "num_val_sequences = len(val_doc)\n",
        "print('# validation sequences =', num_val_sequences)\n",
        "num_epochs = 35 # choose the number of epochs\n",
        "print ('# epochs =', num_epochs)"
      ],
      "execution_count": 11,
      "outputs": [
        {
          "output_type": "stream",
          "text": [
            "# training sequences = 663\n",
            "# validation sequences = 100\n",
            "# epochs = 35\n"
          ],
          "name": "stdout"
        }
      ]
    },
    {
      "cell_type": "markdown",
      "metadata": {
        "id": "slE7-w-AzzL6"
      },
      "source": [
        "## Model\n",
        "Here you make the model using different functionalities that Keras provides. Remember to use `Conv3D` and `MaxPooling3D` and not `Conv2D` and `Maxpooling2D` for a 3D convolution model. You would want to use `TimeDistributed` while building a Conv2D + RNN model. Also remember that the last layer is the softmax. Design the network in such a way that the model is able to give good accuracy on the least number of parameters so that it can fit in the memory of the webcam."
      ]
    },
    {
      "cell_type": "code",
      "metadata": {
        "id": "G4kxc8exBTaM"
      },
      "source": [
        "from keras.models import Sequential, Model\n",
        "from keras.layers import Dense, GRU, Flatten, TimeDistributed, Flatten, BatchNormalization, Activation, Dropout\n",
        "from keras.layers.convolutional import Conv3D, MaxPooling3D\n",
        "from keras.callbacks import ModelCheckpoint, ReduceLROnPlateau, EarlyStopping\n",
        "from keras import optimizers\n",
        "\n",
        "from keras.regularizers import l2"
      ],
      "execution_count": 12,
      "outputs": []
    },
    {
      "cell_type": "markdown",
      "metadata": {
        "id": "3RPSVc5FzzL8"
      },
      "source": [
        "Let us create the `train_generator` and the `val_generator` which will be used in `.fit_generator`."
      ]
    },
    {
      "cell_type": "code",
      "metadata": {
        "id": "xLC0QHNlzzL8"
      },
      "source": [
        "train_generator = generator(train_path, train_doc, batch_size)\n",
        "val_generator = generator(val_path, val_doc, batch_size)"
      ],
      "execution_count": 25,
      "outputs": []
    },
    {
      "cell_type": "code",
      "metadata": {
        "colab": {
          "base_uri": "https://localhost:8080/"
        },
        "id": "TgYhYPZvzzL8",
        "outputId": "a7b4fd4f-9cd3-4450-e113-3acb7e5ee05d"
      },
      "source": [
        "model_name = 'model_init' + '_' + str(curr_dt_time).replace(' ','').replace(':','_') + '/'\n",
        "    \n",
        "if not os.path.exists(model_name):\n",
        "    os.mkdir(model_name)\n",
        "        \n",
        "filepath = model_name + 'model-{epoch:05d}-{loss:.5f}-{categorical_accuracy:.5f}-{val_loss:.5f}-{val_categorical_accuracy:.5f}.h5'\n",
        "\n",
        "checkpoint = ModelCheckpoint(filepath, monitor='val_loss', verbose=1, save_best_only=False, save_weights_only=False, mode='auto', period=1)\n",
        "#earlystop = EarlyStopping(monitor=\"val_loss\", min_delta=0,patience=10,verbose=1)\n",
        "\n",
        "LR = ReduceLROnPlateau(monitor='val_loss', factor=0.2, patience=2, verbose=1) #write the REducelronplateau code here\n",
        "callbacks_list = [LR]"
      ],
      "execution_count": 16,
      "outputs": [
        {
          "output_type": "stream",
          "text": [
            "WARNING:tensorflow:`period` argument is deprecated. Please use `save_freq` to specify the frequency in number of batches seen.\n"
          ],
          "name": "stdout"
        }
      ]
    },
    {
      "cell_type": "markdown",
      "metadata": {
        "id": "AP2z6HhwzzL8"
      },
      "source": [
        "The `steps_per_epoch` and `validation_steps` are used by `fit_generator` to decide the number of next() calls it need to make."
      ]
    },
    {
      "cell_type": "code",
      "metadata": {
        "id": "bBxHntkizzL8"
      },
      "source": [
        "if (num_train_sequences%batch_size) == 0:\n",
        "    steps_per_epoch = int(num_train_sequences/batch_size)\n",
        "else:\n",
        "    steps_per_epoch = (num_train_sequences//batch_size) + 1\n",
        "\n",
        "if (num_val_sequences%batch_size) == 0:\n",
        "    validation_steps = int(num_val_sequences/batch_size)\n",
        "else:\n",
        "    validation_steps = (num_val_sequences//batch_size) + 1"
      ],
      "execution_count": 20,
      "outputs": []
    },
    {
      "cell_type": "markdown",
      "metadata": {
        "id": "CMkNl0-rBd-6"
      },
      "source": [
        "#### CONV3D - Model 1 (elu+Adam)"
      ]
    },
    {
      "cell_type": "code",
      "metadata": {
        "id": "2hHKhv_lzzL7"
      },
      "source": [
        "#write your model here\n",
        "model = Sequential()\n",
        "\n",
        "model.add(Conv3D(16, (3,3,3), padding='same', input_shape=(16,img_height,img_width,3)))\n",
        "model.add(BatchNormalization())\n",
        "model.add(Activation('elu'))\n",
        "model.add(MaxPooling3D(pool_size=(2,2,1), strides=(2,2,1)))\n",
        "\n",
        "model.add(Conv3D(32, (3,3,3), padding='same'))\n",
        "model.add(BatchNormalization())\n",
        "model.add(Activation('elu'))\n",
        "model.add(MaxPooling3D(pool_size=(2,2,2), strides=(2,2,2)))\n",
        "\n",
        "# model.add(Dropout(0.25))\n",
        "\n",
        "model.add(Conv3D(64, (3,3,3), padding='same'))\n",
        "model.add(BatchNormalization())\n",
        "model.add(Activation('elu'))\n",
        "model.add(MaxPooling3D(pool_size=(2,2,2), strides=(2,2,2)))\n",
        "\n",
        "# model.add(Dropout(0.25))\n",
        "\n",
        "# model.add(Conv3D(256, (3,3,3), strides=(1,1,1), padding='same'))\n",
        "# model.add(BatchNormalization())\n",
        "# model.add(Activation('elu'))\n",
        "# model.add(MaxPooling3D(pool_size=(2,2,2), strides=(2,2,2)))\n",
        "\n",
        "model.add(Flatten())\n",
        "model.add(Dense(64, activation='elu'))\n",
        "model.add(Dropout(0.5))\n",
        "model.add(Dense(64, activation='elu'))\n",
        "model.add(Dropout(0.5))\n",
        "model.add(Dense(5, activation='softmax'))"
      ],
      "execution_count": 14,
      "outputs": []
    },
    {
      "cell_type": "markdown",
      "metadata": {
        "id": "4MzimYijzzL7"
      },
      "source": [
        "Now that you have written the model, the next step is to `compile` the model. When you print the `summary` of the model, you'll see the total number of parameters you have to train."
      ]
    },
    {
      "cell_type": "code",
      "metadata": {
        "colab": {
          "base_uri": "https://localhost:8080/"
        },
        "id": "Jh0j8tyPzzL7",
        "scrolled": true,
        "outputId": "2ee332b0-9955-4dbd-fc53-7045b78a852d"
      },
      "source": [
        "optimiser = optimizers.Adam() #write your optimizer\n",
        "model.compile(optimizer=optimiser, loss='categorical_crossentropy', metrics=['categorical_accuracy'])\n",
        "print (model.summary())"
      ],
      "execution_count": 15,
      "outputs": [
        {
          "output_type": "stream",
          "text": [
            "Model: \"sequential\"\n",
            "_________________________________________________________________\n",
            "Layer (type)                 Output Shape              Param #   \n",
            "=================================================================\n",
            "conv3d (Conv3D)              (None, 16, 100, 100, 16)  1312      \n",
            "_________________________________________________________________\n",
            "batch_normalization (BatchNo (None, 16, 100, 100, 16)  64        \n",
            "_________________________________________________________________\n",
            "activation (Activation)      (None, 16, 100, 100, 16)  0         \n",
            "_________________________________________________________________\n",
            "max_pooling3d (MaxPooling3D) (None, 8, 50, 100, 16)    0         \n",
            "_________________________________________________________________\n",
            "conv3d_1 (Conv3D)            (None, 8, 50, 100, 32)    13856     \n",
            "_________________________________________________________________\n",
            "batch_normalization_1 (Batch (None, 8, 50, 100, 32)    128       \n",
            "_________________________________________________________________\n",
            "activation_1 (Activation)    (None, 8, 50, 100, 32)    0         \n",
            "_________________________________________________________________\n",
            "max_pooling3d_1 (MaxPooling3 (None, 4, 25, 50, 32)     0         \n",
            "_________________________________________________________________\n",
            "conv3d_2 (Conv3D)            (None, 4, 25, 50, 64)     55360     \n",
            "_________________________________________________________________\n",
            "batch_normalization_2 (Batch (None, 4, 25, 50, 64)     256       \n",
            "_________________________________________________________________\n",
            "activation_2 (Activation)    (None, 4, 25, 50, 64)     0         \n",
            "_________________________________________________________________\n",
            "max_pooling3d_2 (MaxPooling3 (None, 2, 12, 25, 64)     0         \n",
            "_________________________________________________________________\n",
            "flatten (Flatten)            (None, 38400)             0         \n",
            "_________________________________________________________________\n",
            "dense (Dense)                (None, 64)                2457664   \n",
            "_________________________________________________________________\n",
            "dropout (Dropout)            (None, 64)                0         \n",
            "_________________________________________________________________\n",
            "dense_1 (Dense)              (None, 64)                4160      \n",
            "_________________________________________________________________\n",
            "dropout_1 (Dropout)          (None, 64)                0         \n",
            "_________________________________________________________________\n",
            "dense_2 (Dense)              (None, 5)                 325       \n",
            "=================================================================\n",
            "Total params: 2,533,125\n",
            "Trainable params: 2,532,901\n",
            "Non-trainable params: 224\n",
            "_________________________________________________________________\n",
            "None\n"
          ],
          "name": "stdout"
        }
      ]
    },
    {
      "cell_type": "markdown",
      "metadata": {
        "id": "6nYHcEvtzzL9"
      },
      "source": [
        "Let us now fit the model. This will start training the model and with the help of the checkpoints, you'll be able to save the model at the end of each epoch."
      ]
    },
    {
      "cell_type": "code",
      "metadata": {
        "colab": {
          "base_uri": "https://localhost:8080/",
          "height": 475
        },
        "id": "ZUsQWviy-TV-",
        "outputId": "474af01a-6794-45ff-e39d-df23d5760a2b"
      },
      "source": [
        "#Ablation Experiment\n",
        "model.fit_generator(train_generator, steps_per_epoch=steps_per_epoch, epochs=5, verbose=1, \n",
        "                    callbacks=callbacks_list, validation_data=val_generator, \n",
        "                    validation_steps=validation_steps, class_weight=None, workers=1, initial_epoch=0)"
      ],
      "execution_count": null,
      "outputs": [
        {
          "output_type": "stream",
          "text": [
            "Source path =  /content/gdrive/MyDrive/Project_data/train ; batch size = 8\n",
            "Epoch 1/5\n"
          ],
          "name": "stdout"
        },
        {
          "output_type": "error",
          "ename": "InvalidArgumentError",
          "evalue": "ignored",
          "traceback": [
            "\u001b[0;31m---------------------------------------------------------------------------\u001b[0m",
            "\u001b[0;31mInvalidArgumentError\u001b[0m                      Traceback (most recent call last)",
            "\u001b[0;32m<ipython-input-26-c2b5106692ca>\u001b[0m in \u001b[0;36m<module>\u001b[0;34m()\u001b[0m\n\u001b[1;32m      2\u001b[0m model.fit_generator(train_generator, steps_per_epoch=steps_per_epoch, epochs=5, verbose=1, \n\u001b[1;32m      3\u001b[0m                     \u001b[0mcallbacks\u001b[0m\u001b[0;34m=\u001b[0m\u001b[0mcallbacks_list\u001b[0m\u001b[0;34m,\u001b[0m \u001b[0mvalidation_data\u001b[0m\u001b[0;34m=\u001b[0m\u001b[0mval_generator\u001b[0m\u001b[0;34m,\u001b[0m\u001b[0;34m\u001b[0m\u001b[0;34m\u001b[0m\u001b[0m\n\u001b[0;32m----> 4\u001b[0;31m                     validation_steps=validation_steps, class_weight=None, workers=1, initial_epoch=0)\n\u001b[0m",
            "\u001b[0;32m/usr/local/lib/python3.7/dist-packages/tensorflow/python/keras/engine/training.py\u001b[0m in \u001b[0;36mfit_generator\u001b[0;34m(self, generator, steps_per_epoch, epochs, verbose, callbacks, validation_data, validation_steps, validation_freq, class_weight, max_queue_size, workers, use_multiprocessing, shuffle, initial_epoch)\u001b[0m\n\u001b[1;32m   1859\u001b[0m         \u001b[0muse_multiprocessing\u001b[0m\u001b[0;34m=\u001b[0m\u001b[0muse_multiprocessing\u001b[0m\u001b[0;34m,\u001b[0m\u001b[0;34m\u001b[0m\u001b[0;34m\u001b[0m\u001b[0m\n\u001b[1;32m   1860\u001b[0m         \u001b[0mshuffle\u001b[0m\u001b[0;34m=\u001b[0m\u001b[0mshuffle\u001b[0m\u001b[0;34m,\u001b[0m\u001b[0;34m\u001b[0m\u001b[0;34m\u001b[0m\u001b[0m\n\u001b[0;32m-> 1861\u001b[0;31m         initial_epoch=initial_epoch)\n\u001b[0m\u001b[1;32m   1862\u001b[0m \u001b[0;34m\u001b[0m\u001b[0m\n\u001b[1;32m   1863\u001b[0m   def evaluate_generator(self,\n",
            "\u001b[0;32m/usr/local/lib/python3.7/dist-packages/tensorflow/python/keras/engine/training.py\u001b[0m in \u001b[0;36mfit\u001b[0;34m(self, x, y, batch_size, epochs, verbose, callbacks, validation_split, validation_data, shuffle, class_weight, sample_weight, initial_epoch, steps_per_epoch, validation_steps, validation_batch_size, validation_freq, max_queue_size, workers, use_multiprocessing)\u001b[0m\n\u001b[1;32m   1098\u001b[0m                 _r=1):\n\u001b[1;32m   1099\u001b[0m               \u001b[0mcallbacks\u001b[0m\u001b[0;34m.\u001b[0m\u001b[0mon_train_batch_begin\u001b[0m\u001b[0;34m(\u001b[0m\u001b[0mstep\u001b[0m\u001b[0;34m)\u001b[0m\u001b[0;34m\u001b[0m\u001b[0;34m\u001b[0m\u001b[0m\n\u001b[0;32m-> 1100\u001b[0;31m               \u001b[0mtmp_logs\u001b[0m \u001b[0;34m=\u001b[0m \u001b[0mself\u001b[0m\u001b[0;34m.\u001b[0m\u001b[0mtrain_function\u001b[0m\u001b[0;34m(\u001b[0m\u001b[0miterator\u001b[0m\u001b[0;34m)\u001b[0m\u001b[0;34m\u001b[0m\u001b[0;34m\u001b[0m\u001b[0m\n\u001b[0m\u001b[1;32m   1101\u001b[0m               \u001b[0;32mif\u001b[0m \u001b[0mdata_handler\u001b[0m\u001b[0;34m.\u001b[0m\u001b[0mshould_sync\u001b[0m\u001b[0;34m:\u001b[0m\u001b[0;34m\u001b[0m\u001b[0;34m\u001b[0m\u001b[0m\n\u001b[1;32m   1102\u001b[0m                 \u001b[0mcontext\u001b[0m\u001b[0;34m.\u001b[0m\u001b[0masync_wait\u001b[0m\u001b[0;34m(\u001b[0m\u001b[0;34m)\u001b[0m\u001b[0;34m\u001b[0m\u001b[0;34m\u001b[0m\u001b[0m\n",
            "\u001b[0;32m/usr/local/lib/python3.7/dist-packages/tensorflow/python/eager/def_function.py\u001b[0m in \u001b[0;36m__call__\u001b[0;34m(self, *args, **kwds)\u001b[0m\n\u001b[1;32m    826\u001b[0m     \u001b[0mtracing_count\u001b[0m \u001b[0;34m=\u001b[0m \u001b[0mself\u001b[0m\u001b[0;34m.\u001b[0m\u001b[0mexperimental_get_tracing_count\u001b[0m\u001b[0;34m(\u001b[0m\u001b[0;34m)\u001b[0m\u001b[0;34m\u001b[0m\u001b[0;34m\u001b[0m\u001b[0m\n\u001b[1;32m    827\u001b[0m     \u001b[0;32mwith\u001b[0m \u001b[0mtrace\u001b[0m\u001b[0;34m.\u001b[0m\u001b[0mTrace\u001b[0m\u001b[0;34m(\u001b[0m\u001b[0mself\u001b[0m\u001b[0;34m.\u001b[0m\u001b[0m_name\u001b[0m\u001b[0;34m)\u001b[0m \u001b[0;32mas\u001b[0m \u001b[0mtm\u001b[0m\u001b[0;34m:\u001b[0m\u001b[0;34m\u001b[0m\u001b[0;34m\u001b[0m\u001b[0m\n\u001b[0;32m--> 828\u001b[0;31m       \u001b[0mresult\u001b[0m \u001b[0;34m=\u001b[0m \u001b[0mself\u001b[0m\u001b[0;34m.\u001b[0m\u001b[0m_call\u001b[0m\u001b[0;34m(\u001b[0m\u001b[0;34m*\u001b[0m\u001b[0margs\u001b[0m\u001b[0;34m,\u001b[0m \u001b[0;34m**\u001b[0m\u001b[0mkwds\u001b[0m\u001b[0;34m)\u001b[0m\u001b[0;34m\u001b[0m\u001b[0;34m\u001b[0m\u001b[0m\n\u001b[0m\u001b[1;32m    829\u001b[0m       \u001b[0mcompiler\u001b[0m \u001b[0;34m=\u001b[0m \u001b[0;34m\"xla\"\u001b[0m \u001b[0;32mif\u001b[0m \u001b[0mself\u001b[0m\u001b[0;34m.\u001b[0m\u001b[0m_experimental_compile\u001b[0m \u001b[0;32melse\u001b[0m \u001b[0;34m\"nonXla\"\u001b[0m\u001b[0;34m\u001b[0m\u001b[0;34m\u001b[0m\u001b[0m\n\u001b[1;32m    830\u001b[0m       \u001b[0mnew_tracing_count\u001b[0m \u001b[0;34m=\u001b[0m \u001b[0mself\u001b[0m\u001b[0;34m.\u001b[0m\u001b[0mexperimental_get_tracing_count\u001b[0m\u001b[0;34m(\u001b[0m\u001b[0;34m)\u001b[0m\u001b[0;34m\u001b[0m\u001b[0;34m\u001b[0m\u001b[0m\n",
            "\u001b[0;32m/usr/local/lib/python3.7/dist-packages/tensorflow/python/eager/def_function.py\u001b[0m in \u001b[0;36m_call\u001b[0;34m(self, *args, **kwds)\u001b[0m\n\u001b[1;32m    886\u001b[0m         \u001b[0;31m# Lifting succeeded, so variables are initialized and we can run the\u001b[0m\u001b[0;34m\u001b[0m\u001b[0;34m\u001b[0m\u001b[0;34m\u001b[0m\u001b[0m\n\u001b[1;32m    887\u001b[0m         \u001b[0;31m# stateless function.\u001b[0m\u001b[0;34m\u001b[0m\u001b[0;34m\u001b[0m\u001b[0;34m\u001b[0m\u001b[0m\n\u001b[0;32m--> 888\u001b[0;31m         \u001b[0;32mreturn\u001b[0m \u001b[0mself\u001b[0m\u001b[0;34m.\u001b[0m\u001b[0m_stateless_fn\u001b[0m\u001b[0;34m(\u001b[0m\u001b[0;34m*\u001b[0m\u001b[0margs\u001b[0m\u001b[0;34m,\u001b[0m \u001b[0;34m**\u001b[0m\u001b[0mkwds\u001b[0m\u001b[0;34m)\u001b[0m\u001b[0;34m\u001b[0m\u001b[0;34m\u001b[0m\u001b[0m\n\u001b[0m\u001b[1;32m    889\u001b[0m     \u001b[0;32melse\u001b[0m\u001b[0;34m:\u001b[0m\u001b[0;34m\u001b[0m\u001b[0;34m\u001b[0m\u001b[0m\n\u001b[1;32m    890\u001b[0m       \u001b[0m_\u001b[0m\u001b[0;34m,\u001b[0m \u001b[0m_\u001b[0m\u001b[0;34m,\u001b[0m \u001b[0m_\u001b[0m\u001b[0;34m,\u001b[0m \u001b[0mfiltered_flat_args\u001b[0m \u001b[0;34m=\u001b[0m\u001b[0;31m \u001b[0m\u001b[0;31m\\\u001b[0m\u001b[0;34m\u001b[0m\u001b[0;34m\u001b[0m\u001b[0m\n",
            "\u001b[0;32m/usr/local/lib/python3.7/dist-packages/tensorflow/python/eager/function.py\u001b[0m in \u001b[0;36m__call__\u001b[0;34m(self, *args, **kwargs)\u001b[0m\n\u001b[1;32m   2941\u001b[0m        filtered_flat_args) = self._maybe_define_function(args, kwargs)\n\u001b[1;32m   2942\u001b[0m     return graph_function._call_flat(\n\u001b[0;32m-> 2943\u001b[0;31m         filtered_flat_args, captured_inputs=graph_function.captured_inputs)  # pylint: disable=protected-access\n\u001b[0m\u001b[1;32m   2944\u001b[0m \u001b[0;34m\u001b[0m\u001b[0m\n\u001b[1;32m   2945\u001b[0m   \u001b[0;34m@\u001b[0m\u001b[0mproperty\u001b[0m\u001b[0;34m\u001b[0m\u001b[0;34m\u001b[0m\u001b[0m\n",
            "\u001b[0;32m/usr/local/lib/python3.7/dist-packages/tensorflow/python/eager/function.py\u001b[0m in \u001b[0;36m_call_flat\u001b[0;34m(self, args, captured_inputs, cancellation_manager)\u001b[0m\n\u001b[1;32m   1917\u001b[0m       \u001b[0;31m# No tape is watching; skip to running the function.\u001b[0m\u001b[0;34m\u001b[0m\u001b[0;34m\u001b[0m\u001b[0;34m\u001b[0m\u001b[0m\n\u001b[1;32m   1918\u001b[0m       return self._build_call_outputs(self._inference_function.call(\n\u001b[0;32m-> 1919\u001b[0;31m           ctx, args, cancellation_manager=cancellation_manager))\n\u001b[0m\u001b[1;32m   1920\u001b[0m     forward_backward = self._select_forward_and_backward_functions(\n\u001b[1;32m   1921\u001b[0m         \u001b[0margs\u001b[0m\u001b[0;34m,\u001b[0m\u001b[0;34m\u001b[0m\u001b[0;34m\u001b[0m\u001b[0m\n",
            "\u001b[0;32m/usr/local/lib/python3.7/dist-packages/tensorflow/python/eager/function.py\u001b[0m in \u001b[0;36mcall\u001b[0;34m(self, ctx, args, cancellation_manager)\u001b[0m\n\u001b[1;32m    558\u001b[0m               \u001b[0minputs\u001b[0m\u001b[0;34m=\u001b[0m\u001b[0margs\u001b[0m\u001b[0;34m,\u001b[0m\u001b[0;34m\u001b[0m\u001b[0;34m\u001b[0m\u001b[0m\n\u001b[1;32m    559\u001b[0m               \u001b[0mattrs\u001b[0m\u001b[0;34m=\u001b[0m\u001b[0mattrs\u001b[0m\u001b[0;34m,\u001b[0m\u001b[0;34m\u001b[0m\u001b[0;34m\u001b[0m\u001b[0m\n\u001b[0;32m--> 560\u001b[0;31m               ctx=ctx)\n\u001b[0m\u001b[1;32m    561\u001b[0m         \u001b[0;32melse\u001b[0m\u001b[0;34m:\u001b[0m\u001b[0;34m\u001b[0m\u001b[0;34m\u001b[0m\u001b[0m\n\u001b[1;32m    562\u001b[0m           outputs = execute.execute_with_cancellation(\n",
            "\u001b[0;32m/usr/local/lib/python3.7/dist-packages/tensorflow/python/eager/execute.py\u001b[0m in \u001b[0;36mquick_execute\u001b[0;34m(op_name, num_outputs, inputs, attrs, ctx, name)\u001b[0m\n\u001b[1;32m     58\u001b[0m     \u001b[0mctx\u001b[0m\u001b[0;34m.\u001b[0m\u001b[0mensure_initialized\u001b[0m\u001b[0;34m(\u001b[0m\u001b[0;34m)\u001b[0m\u001b[0;34m\u001b[0m\u001b[0;34m\u001b[0m\u001b[0m\n\u001b[1;32m     59\u001b[0m     tensors = pywrap_tfe.TFE_Py_Execute(ctx._handle, device_name, op_name,\n\u001b[0;32m---> 60\u001b[0;31m                                         inputs, attrs, num_outputs)\n\u001b[0m\u001b[1;32m     61\u001b[0m   \u001b[0;32mexcept\u001b[0m \u001b[0mcore\u001b[0m\u001b[0;34m.\u001b[0m\u001b[0m_NotOkStatusException\u001b[0m \u001b[0;32mas\u001b[0m \u001b[0me\u001b[0m\u001b[0;34m:\u001b[0m\u001b[0;34m\u001b[0m\u001b[0;34m\u001b[0m\u001b[0m\n\u001b[1;32m     62\u001b[0m     \u001b[0;32mif\u001b[0m \u001b[0mname\u001b[0m \u001b[0;32mis\u001b[0m \u001b[0;32mnot\u001b[0m \u001b[0;32mNone\u001b[0m\u001b[0;34m:\u001b[0m\u001b[0;34m\u001b[0m\u001b[0;34m\u001b[0m\u001b[0m\n",
            "\u001b[0;31mInvalidArgumentError\u001b[0m:  Incompatible shapes: [16] vs. [9]\n\t [[node Equal (defined at <ipython-input-26-c2b5106692ca>:4) ]] [Op:__inference_train_function_2269]\n\nFunction call stack:\ntrain_function\n"
          ]
        }
      ]
    },
    {
      "cell_type": "markdown",
      "metadata": {
        "id": "efWKJcJycnZQ"
      },
      "source": [
        "**16% validation accuracy** - 18x50x50  - 90l  \n",
        "**38% validation accuracy** - 18x50x50 - 50l"
      ]
    },
    {
      "cell_type": "markdown",
      "metadata": {
        "id": "ZHmpc4sfU8cy"
      },
      "source": [
        "#### CONV3D - Model 2 (relu+Adam+l2)"
      ]
    },
    {
      "cell_type": "code",
      "metadata": {
        "id": "OGhJQDvwB2LZ"
      },
      "source": [
        "#write your model here\n",
        "model = Sequential()\n",
        "\n",
        "model.add(Conv3D(64, (3,3,3), strides=(1,1,1), padding='same', input_shape=(10,50,50,3)))\n",
        "model.add(BatchNormalization())\n",
        "model.add(Activation('relu'))\n",
        "model.add(MaxPooling3D(pool_size=(2,2,1), strides=(2,2,1)))\n",
        "\n",
        "model.add(Conv3D(128, (3,3,3), strides=(1,1,1), padding='same'))\n",
        "model.add(BatchNormalization())\n",
        "model.add(Activation('relu'))\n",
        "model.add(MaxPooling3D(pool_size=(2,2,2), strides=(2,2,2)))\n",
        "\n",
        "# model.add(Dropout(0.25))\n",
        "\n",
        "model.add(Conv3D(256, (3,3,3), strides=(1,1,1), padding='same'))\n",
        "model.add(BatchNormalization())\n",
        "model.add(Activation('relu'))\n",
        "model.add(MaxPooling3D(pool_size=(2,2,2), strides=(2,2,2)))\n",
        "\n",
        "# model.add(Dropout(0.25))\n",
        "\n",
        "#model.add(Conv3D(256, (3,3,3), strides=(1,1,1), padding='same'))\n",
        "#model.add(BatchNormalization())\n",
        "#model.add(Activation('relu'))\n",
        "#model.add(MaxPooling3D(pool_size=(2,2,2), strides=(2,2,2)))\n",
        "\n",
        "model.add(Flatten())\n",
        "model.add(Dropout(0.5))\n",
        "model.add(Dense(512, kernel_regularizer=l2(0.01), activation='relu'))\n",
        "model.add(Dropout(0.5))\n",
        "model.add(Dense(5, activation='softmax'))"
      ],
      "execution_count": null,
      "outputs": []
    },
    {
      "cell_type": "code",
      "metadata": {
        "colab": {
          "base_uri": "https://localhost:8080/"
        },
        "id": "QjLdKIw5-aMw",
        "outputId": "8f5330df-0f00-4648-c557-deebf57e2983"
      },
      "source": [
        "optimiser = optimizers.Adam() #write your optimizer\n",
        "model.compile(optimizer=optimiser, loss='categorical_crossentropy', metrics=['categorical_accuracy'])\n",
        "print (model.summary())"
      ],
      "execution_count": null,
      "outputs": [
        {
          "output_type": "stream",
          "text": [
            "Model: \"sequential_1\"\n",
            "_________________________________________________________________\n",
            "Layer (type)                 Output Shape              Param #   \n",
            "=================================================================\n",
            "conv3d_3 (Conv3D)            (None, 10, 50, 50, 64)    5248      \n",
            "_________________________________________________________________\n",
            "batch_normalization_3 (Batch (None, 10, 50, 50, 64)    256       \n",
            "_________________________________________________________________\n",
            "activation_3 (Activation)    (None, 10, 50, 50, 64)    0         \n",
            "_________________________________________________________________\n",
            "max_pooling3d_3 (MaxPooling3 (None, 5, 25, 50, 64)     0         \n",
            "_________________________________________________________________\n",
            "conv3d_4 (Conv3D)            (None, 5, 25, 50, 128)    221312    \n",
            "_________________________________________________________________\n",
            "batch_normalization_4 (Batch (None, 5, 25, 50, 128)    512       \n",
            "_________________________________________________________________\n",
            "activation_4 (Activation)    (None, 5, 25, 50, 128)    0         \n",
            "_________________________________________________________________\n",
            "max_pooling3d_4 (MaxPooling3 (None, 2, 12, 25, 128)    0         \n",
            "_________________________________________________________________\n",
            "conv3d_5 (Conv3D)            (None, 2, 12, 25, 256)    884992    \n",
            "_________________________________________________________________\n",
            "batch_normalization_5 (Batch (None, 2, 12, 25, 256)    1024      \n",
            "_________________________________________________________________\n",
            "activation_5 (Activation)    (None, 2, 12, 25, 256)    0         \n",
            "_________________________________________________________________\n",
            "max_pooling3d_5 (MaxPooling3 (None, 1, 6, 12, 256)     0         \n",
            "_________________________________________________________________\n",
            "flatten_1 (Flatten)          (None, 18432)             0         \n",
            "_________________________________________________________________\n",
            "dropout_2 (Dropout)          (None, 18432)             0         \n",
            "_________________________________________________________________\n",
            "dense_2 (Dense)              (None, 512)               9437696   \n",
            "_________________________________________________________________\n",
            "dropout_3 (Dropout)          (None, 512)               0         \n",
            "_________________________________________________________________\n",
            "dense_3 (Dense)              (None, 5)                 2565      \n",
            "=================================================================\n",
            "Total params: 10,553,605\n",
            "Trainable params: 10,552,709\n",
            "Non-trainable params: 896\n",
            "_________________________________________________________________\n",
            "None\n"
          ],
          "name": "stdout"
        }
      ]
    },
    {
      "cell_type": "code",
      "metadata": {
        "colab": {
          "base_uri": "https://localhost:8080/"
        },
        "id": "OlwlPywECKkZ",
        "outputId": "fbed92d1-e3ab-4f46-a685-26aeed1b6fb1"
      },
      "source": [
        "model.fit_generator(train_generator, steps_per_epoch=steps_per_epoch, epochs=5, verbose=1, \n",
        "                    callbacks=callbacks_list, validation_data=val_generator, \n",
        "                    validation_steps=validation_steps, class_weight=None, workers=1, initial_epoch=0)"
      ],
      "execution_count": null,
      "outputs": [
        {
          "output_type": "stream",
          "text": [
            "Source path =  /content/gdrive/MyDrive/Project_data/train ; batch size = 64\n",
            "Epoch 1/5\n",
            "11/11 [==============================] - ETA: 0s - loss: 35.4608 - categorical_accuracy: 0.2139  Source path =  /content/gdrive/MyDrive/Project_data/val ; batch size = 64\n",
            "11/11 [==============================] - 2290s 225s/step - loss: 35.2202 - categorical_accuracy: 0.2158 - val_loss: 326.8716 - val_categorical_accuracy: 0.2300\n",
            "Epoch 2/5\n",
            "11/11 [==============================] - 407s 37s/step - loss: 15.3571 - categorical_accuracy: 0.3421 - val_loss: 250.5556 - val_categorical_accuracy: 0.2500\n",
            "Epoch 3/5\n",
            "11/11 [==============================] - 401s 36s/step - loss: 10.9147 - categorical_accuracy: 0.3628 - val_loss: 63.3177 - val_categorical_accuracy: 0.2200\n",
            "Epoch 4/5\n",
            "11/11 [==============================] - 409s 37s/step - loss: 9.5822 - categorical_accuracy: 0.3264 - val_loss: 32.6211 - val_categorical_accuracy: 0.2500\n",
            "Epoch 5/5\n",
            "11/11 [==============================] - 411s 37s/step - loss: 8.5919 - categorical_accuracy: 0.3760 - val_loss: 28.4989 - val_categorical_accuracy: 0.2000\n"
          ],
          "name": "stdout"
        },
        {
          "output_type": "execute_result",
          "data": {
            "text/plain": [
              "<tensorflow.python.keras.callbacks.History at 0x7f66a2a78c90>"
            ]
          },
          "metadata": {
            "tags": []
          },
          "execution_count": 18
        }
      ]
    },
    {
      "cell_type": "markdown",
      "metadata": {
        "id": "jPgZSbQacxbG"
      },
      "source": [
        "**24% validation accuracy - adam+l2** - 18x84x84 90l  \n",
        "**49% - sgd+l2** - 18x50x50 50l"
      ]
    },
    {
      "cell_type": "markdown",
      "metadata": {
        "id": "Wtoqj93LBS93"
      },
      "source": [
        "###CONV2D+LTSM"
      ]
    },
    {
      "cell_type": "code",
      "metadata": {
        "id": "Q9CuEtFTYtXU"
      },
      "source": [
        "from keras.layers.convolutional import Conv2D, MaxPooling2D\n",
        "from keras.layers import LSTM\n",
        "\n",
        "model = Sequential()\n",
        "\n",
        "model.add(TimeDistributed(Conv2D(16, (2, 2), padding='same'),\n",
        "                 input_shape=(18,50,50,3)))\n",
        "model.add(Activation('relu'))\n",
        "model.add(BatchNormalization())\n",
        "model.add(TimeDistributed(Conv2D(16, (2, 2))))\n",
        "model.add(Activation('relu'))\n",
        "model.add(BatchNormalization())\n",
        "model.add(TimeDistributed(MaxPooling2D(pool_size=(2, 2))))\n",
        "model.add(Dropout(0.2))\n",
        "\n",
        "model.add(TimeDistributed(Conv2D(32, (2, 2), padding='same')))\n",
        "model.add(Activation('relu'))\n",
        "model.add(BatchNormalization())\n",
        "model.add(TimeDistributed(Conv2D(32, (2, 2), padding='same')))\n",
        "model.add(Activation('relu'))\n",
        "model.add(BatchNormalization())\n",
        "model.add(TimeDistributed(MaxPooling2D(pool_size=(2, 2))))\n",
        "model.add(Dropout(0.2))\n",
        "\n",
        "model.add(TimeDistributed(Flatten()))\n",
        "model.add(LSTM(256, return_sequences=False, dropout=0.5))\n",
        "model.add(Dense(64,kernel_regularizer=l2(0.01)))\n",
        "model.add(Activation('relu'))\n",
        "model.add(Dropout(0.25))\n",
        "model.add(Dense(num_classes))\n",
        "model.add(Activation('softmax'))"
      ],
      "execution_count": null,
      "outputs": []
    },
    {
      "cell_type": "code",
      "metadata": {
        "colab": {
          "base_uri": "https://localhost:8080/"
        },
        "id": "zcfV5TlYzzL9",
        "outputId": "b7c524a4-91b5-4d2d-9ed8-cb106228f7c3"
      },
      "source": [
        "# compile it\n",
        "model.compile(loss='categorical_crossentropy', optimizer='sgd', metrics=['categorical_accuracy'])\n",
        "# summary of model\n",
        "model.summary()"
      ],
      "execution_count": null,
      "outputs": [
        {
          "output_type": "stream",
          "text": [
            "Model: \"sequential_7\"\n",
            "_________________________________________________________________\n",
            "Layer (type)                 Output Shape              Param #   \n",
            "=================================================================\n",
            "time_distributed_7 (TimeDist (None, 18, 50, 50, 16)    208       \n",
            "_________________________________________________________________\n",
            "activation_27 (Activation)   (None, 18, 50, 50, 16)    0         \n",
            "_________________________________________________________________\n",
            "batch_normalization_25 (Batc (None, 18, 50, 50, 16)    64        \n",
            "_________________________________________________________________\n",
            "time_distributed_8 (TimeDist (None, 18, 49, 49, 16)    1040      \n",
            "_________________________________________________________________\n",
            "activation_28 (Activation)   (None, 18, 49, 49, 16)    0         \n",
            "_________________________________________________________________\n",
            "batch_normalization_26 (Batc (None, 18, 49, 49, 16)    64        \n",
            "_________________________________________________________________\n",
            "time_distributed_9 (TimeDist (None, 18, 24, 24, 16)    0         \n",
            "_________________________________________________________________\n",
            "dropout_13 (Dropout)         (None, 18, 24, 24, 16)    0         \n",
            "_________________________________________________________________\n",
            "time_distributed_10 (TimeDis (None, 18, 24, 24, 32)    2080      \n",
            "_________________________________________________________________\n",
            "activation_29 (Activation)   (None, 18, 24, 24, 32)    0         \n",
            "_________________________________________________________________\n",
            "batch_normalization_27 (Batc (None, 18, 24, 24, 32)    128       \n",
            "_________________________________________________________________\n",
            "time_distributed_11 (TimeDis (None, 18, 24, 24, 32)    4128      \n",
            "_________________________________________________________________\n",
            "activation_30 (Activation)   (None, 18, 24, 24, 32)    0         \n",
            "_________________________________________________________________\n",
            "batch_normalization_28 (Batc (None, 18, 24, 24, 32)    128       \n",
            "_________________________________________________________________\n",
            "time_distributed_12 (TimeDis (None, 18, 12, 12, 32)    0         \n",
            "_________________________________________________________________\n",
            "dropout_14 (Dropout)         (None, 18, 12, 12, 32)    0         \n",
            "_________________________________________________________________\n",
            "time_distributed_13 (TimeDis (None, 18, 4608)          0         \n",
            "_________________________________________________________________\n",
            "lstm_1 (LSTM)                (None, 256)               4981760   \n",
            "_________________________________________________________________\n",
            "dense_12 (Dense)             (None, 64)                16448     \n",
            "_________________________________________________________________\n",
            "activation_31 (Activation)   (None, 64)                0         \n",
            "_________________________________________________________________\n",
            "dropout_15 (Dropout)         (None, 64)                0         \n",
            "_________________________________________________________________\n",
            "dense_13 (Dense)             (None, 5)                 325       \n",
            "_________________________________________________________________\n",
            "activation_32 (Activation)   (None, 5)                 0         \n",
            "=================================================================\n",
            "Total params: 5,006,373\n",
            "Trainable params: 5,006,181\n",
            "Non-trainable params: 192\n",
            "_________________________________________________________________\n"
          ],
          "name": "stdout"
        }
      ]
    },
    {
      "cell_type": "code",
      "metadata": {
        "colab": {
          "base_uri": "https://localhost:8080/"
        },
        "id": "INH4Mo6d_qqO",
        "outputId": "d947f03a-c57c-4305-b53c-c750355b4d68"
      },
      "source": [
        "model.fit_generator(train_generator, steps_per_epoch=steps_per_epoch, epochs=num_epochs, verbose=1, \n",
        "                    callbacks=callbacks_list, validation_data=val_generator, \n",
        "                    validation_steps=validation_steps, class_weight=None, workers=1, initial_epoch=0)"
      ],
      "execution_count": null,
      "outputs": [
        {
          "output_type": "stream",
          "text": [
            "/usr/local/lib/python3.7/dist-packages/tensorflow/python/keras/engine/training.py:1844: UserWarning: `Model.fit_generator` is deprecated and will be removed in a future version. Please use `Model.fit`, which supports generators.\n",
            "  warnings.warn('`Model.fit_generator` is deprecated and '\n",
            "/usr/local/lib/python3.7/dist-packages/ipykernel_launcher.py:13: DeprecationWarning:     `imread` is deprecated!\n",
            "    `imread` is deprecated in SciPy 1.0.0, and will be removed in 1.2.0.\n",
            "    Use ``imageio.imread`` instead.\n",
            "  del sys.path[0]\n",
            "/usr/local/lib/python3.7/dist-packages/ipykernel_launcher.py:17: DeprecationWarning:     `imresize` is deprecated!\n",
            "    `imresize` is deprecated in SciPy 1.0.0, and will be removed in 1.2.0.\n",
            "    Use ``skimage.transform.resize`` instead.\n",
            "/usr/local/lib/python3.7/dist-packages/ipykernel_launcher.py:19: DeprecationWarning:     `imresize` is deprecated!\n",
            "    `imresize` is deprecated in SciPy 1.0.0, and will be removed in 1.2.0.\n",
            "    Use ``skimage.transform.resize`` instead.\n"
          ],
          "name": "stderr"
        },
        {
          "output_type": "stream",
          "text": [
            "Epoch 1/35\n",
            " 9/11 [=======================>......] - ETA: 8s - loss: 2.8092 - categorical_accuracy: 0.1847 "
          ],
          "name": "stdout"
        },
        {
          "output_type": "stream",
          "text": [
            "/usr/local/lib/python3.7/dist-packages/ipykernel_launcher.py:39: DeprecationWarning:     `imread` is deprecated!\n",
            "    `imread` is deprecated in SciPy 1.0.0, and will be removed in 1.2.0.\n",
            "    Use ``imageio.imread`` instead.\n",
            "/usr/local/lib/python3.7/dist-packages/ipykernel_launcher.py:43: DeprecationWarning:     `imresize` is deprecated!\n",
            "    `imresize` is deprecated in SciPy 1.0.0, and will be removed in 1.2.0.\n",
            "    Use ``skimage.transform.resize`` instead.\n",
            "/usr/local/lib/python3.7/dist-packages/ipykernel_launcher.py:45: DeprecationWarning:     `imresize` is deprecated!\n",
            "    `imresize` is deprecated in SciPy 1.0.0, and will be removed in 1.2.0.\n",
            "    Use ``skimage.transform.resize`` instead.\n"
          ],
          "name": "stderr"
        },
        {
          "output_type": "stream",
          "text": [
            "11/11 [==============================] - 58s 6s/step - loss: 2.7923 - categorical_accuracy: 0.1932 - val_loss: 2.6768 - val_categorical_accuracy: 0.2000\n",
            "Epoch 2/35\n",
            "11/11 [==============================] - 59s 6s/step - loss: 2.6641 - categorical_accuracy: 0.2161 - val_loss: 2.5845 - val_categorical_accuracy: 0.3200\n",
            "Epoch 3/35\n",
            "11/11 [==============================] - 54s 5s/step - loss: 2.6209 - categorical_accuracy: 0.2497 - val_loss: 2.5771 - val_categorical_accuracy: 0.2700\n",
            "Epoch 4/35\n",
            "11/11 [==============================] - 59s 6s/step - loss: 2.5461 - categorical_accuracy: 0.3202 - val_loss: 2.5293 - val_categorical_accuracy: 0.3300\n",
            "Epoch 5/35\n",
            "11/11 [==============================] - 55s 6s/step - loss: 2.5333 - categorical_accuracy: 0.3389 - val_loss: 2.5084 - val_categorical_accuracy: 0.3500\n",
            "Epoch 6/35\n",
            "11/11 [==============================] - 58s 6s/step - loss: 2.4881 - categorical_accuracy: 0.3555 - val_loss: 2.5348 - val_categorical_accuracy: 0.3000\n",
            "Epoch 7/35\n",
            "11/11 [==============================] - 55s 6s/step - loss: 2.4393 - categorical_accuracy: 0.3619 - val_loss: 2.6051 - val_categorical_accuracy: 0.2200\n",
            "\n",
            "Epoch 00007: ReduceLROnPlateau reducing learning rate to 0.004999999888241291.\n",
            "Epoch 8/35\n",
            "11/11 [==============================] - 58s 6s/step - loss: 2.3975 - categorical_accuracy: 0.4085 - val_loss: 2.5257 - val_categorical_accuracy: 0.2900\n",
            "Epoch 9/35\n",
            "11/11 [==============================] - 56s 6s/step - loss: 2.3620 - categorical_accuracy: 0.4116 - val_loss: 2.5785 - val_categorical_accuracy: 0.2600\n",
            "\n",
            "Epoch 00009: ReduceLROnPlateau reducing learning rate to 0.0024999999441206455.\n",
            "Epoch 10/35\n",
            "11/11 [==============================] - 58s 6s/step - loss: 2.3176 - categorical_accuracy: 0.4943 - val_loss: 2.4569 - val_categorical_accuracy: 0.3800\n",
            "Epoch 11/35\n",
            "11/11 [==============================] - 56s 6s/step - loss: 2.3246 - categorical_accuracy: 0.4544 - val_loss: 2.6201 - val_categorical_accuracy: 0.2600\n",
            "Epoch 12/35\n",
            "11/11 [==============================] - 57s 6s/step - loss: 2.3094 - categorical_accuracy: 0.4730 - val_loss: 2.4357 - val_categorical_accuracy: 0.4000\n",
            "Epoch 13/35\n",
            "11/11 [==============================] - 57s 6s/step - loss: 2.2962 - categorical_accuracy: 0.4928 - val_loss: 2.4115 - val_categorical_accuracy: 0.3900\n",
            "Epoch 14/35\n",
            "11/11 [==============================] - 57s 6s/step - loss: 2.2805 - categorical_accuracy: 0.4885 - val_loss: 2.4128 - val_categorical_accuracy: 0.4200\n",
            "Epoch 15/35\n",
            "11/11 [==============================] - 58s 6s/step - loss: 2.2748 - categorical_accuracy: 0.4936 - val_loss: 2.4404 - val_categorical_accuracy: 0.4100\n",
            "\n",
            "Epoch 00015: ReduceLROnPlateau reducing learning rate to 0.0012499999720603228.\n",
            "Epoch 16/35\n",
            "11/11 [==============================] - 58s 6s/step - loss: 2.2246 - categorical_accuracy: 0.5226 - val_loss: 2.3621 - val_categorical_accuracy: 0.4100\n",
            "Epoch 17/35\n",
            "11/11 [==============================] - 57s 6s/step - loss: 2.2380 - categorical_accuracy: 0.5051 - val_loss: 2.4144 - val_categorical_accuracy: 0.4100\n",
            "Epoch 18/35\n",
            "11/11 [==============================] - 58s 6s/step - loss: 2.2595 - categorical_accuracy: 0.4838 - val_loss: 2.5174 - val_categorical_accuracy: 0.3400\n",
            "\n",
            "Epoch 00018: ReduceLROnPlateau reducing learning rate to 0.0006249999860301614.\n",
            "Epoch 19/35\n",
            "11/11 [==============================] - 55s 6s/step - loss: 2.2308 - categorical_accuracy: 0.5179 - val_loss: 2.3798 - val_categorical_accuracy: 0.4400\n",
            "Epoch 20/35\n",
            "11/11 [==============================] - 59s 6s/step - loss: 2.2156 - categorical_accuracy: 0.5292 - val_loss: 2.4138 - val_categorical_accuracy: 0.3900\n",
            "\n",
            "Epoch 00020: ReduceLROnPlateau reducing learning rate to 0.0003124999930150807.\n",
            "Epoch 21/35\n",
            "11/11 [==============================] - 56s 6s/step - loss: 2.1974 - categorical_accuracy: 0.5312 - val_loss: 2.3754 - val_categorical_accuracy: 0.4000\n",
            "Epoch 22/35\n",
            "11/11 [==============================] - 58s 6s/step - loss: 2.2152 - categorical_accuracy: 0.4961 - val_loss: 2.3200 - val_categorical_accuracy: 0.4700\n",
            "Epoch 23/35\n",
            "11/11 [==============================] - 56s 6s/step - loss: 2.1904 - categorical_accuracy: 0.5602 - val_loss: 2.3365 - val_categorical_accuracy: 0.4400\n",
            "Epoch 24/35\n",
            "11/11 [==============================] - 59s 6s/step - loss: 2.2254 - categorical_accuracy: 0.4928 - val_loss: 2.3275 - val_categorical_accuracy: 0.4500\n",
            "\n",
            "Epoch 00024: ReduceLROnPlateau reducing learning rate to 0.00015624999650754035.\n",
            "Epoch 25/35\n",
            "11/11 [==============================] - 55s 5s/step - loss: 2.2138 - categorical_accuracy: 0.4978 - val_loss: 2.4343 - val_categorical_accuracy: 0.4000\n",
            "Epoch 26/35\n",
            "11/11 [==============================] - 58s 6s/step - loss: 2.2183 - categorical_accuracy: 0.5092 - val_loss: 2.3518 - val_categorical_accuracy: 0.4200\n",
            "\n",
            "Epoch 00026: ReduceLROnPlateau reducing learning rate to 7.812499825377017e-05.\n",
            "Epoch 27/35\n",
            "11/11 [==============================] - 56s 6s/step - loss: 2.1755 - categorical_accuracy: 0.5664 - val_loss: 2.4277 - val_categorical_accuracy: 0.4000\n",
            "Epoch 28/35\n",
            "11/11 [==============================] - 56s 6s/step - loss: 2.1987 - categorical_accuracy: 0.5035 - val_loss: 2.3647 - val_categorical_accuracy: 0.3900\n",
            "\n",
            "Epoch 00028: ReduceLROnPlateau reducing learning rate to 3.9062499126885086e-05.\n",
            "Epoch 29/35\n",
            "11/11 [==============================] - 56s 6s/step - loss: 2.1941 - categorical_accuracy: 0.5366 - val_loss: 2.3529 - val_categorical_accuracy: 0.4500\n",
            "Epoch 30/35\n",
            "11/11 [==============================] - 57s 6s/step - loss: 2.1835 - categorical_accuracy: 0.5307 - val_loss: 2.3297 - val_categorical_accuracy: 0.4800\n",
            "\n",
            "Epoch 00030: ReduceLROnPlateau reducing learning rate to 1.9531249563442543e-05.\n",
            "Epoch 31/35\n",
            "11/11 [==============================] - 55s 6s/step - loss: 2.2153 - categorical_accuracy: 0.5081 - val_loss: 2.3769 - val_categorical_accuracy: 0.4500\n",
            "Epoch 32/35\n",
            "11/11 [==============================] - 57s 6s/step - loss: 2.2098 - categorical_accuracy: 0.5222 - val_loss: 2.3276 - val_categorical_accuracy: 0.5000\n",
            "\n",
            "Epoch 00032: ReduceLROnPlateau reducing learning rate to 1e-05.\n",
            "Epoch 33/35\n",
            "11/11 [==============================] - 55s 5s/step - loss: 2.1795 - categorical_accuracy: 0.5704 - val_loss: 2.4368 - val_categorical_accuracy: 0.4600\n",
            "Epoch 34/35\n",
            "11/11 [==============================] - 57s 6s/step - loss: 2.2273 - categorical_accuracy: 0.4937 - val_loss: 2.3361 - val_categorical_accuracy: 0.4500\n",
            "Epoch 35/35\n",
            "11/11 [==============================] - 55s 6s/step - loss: 2.1959 - categorical_accuracy: 0.5318 - val_loss: 2.3347 - val_categorical_accuracy: 0.4400\n"
          ],
          "name": "stdout"
        },
        {
          "output_type": "execute_result",
          "data": {
            "text/plain": [
              "<tensorflow.python.keras.callbacks.History at 0x7fa92a180150>"
            ]
          },
          "metadata": {
            "tags": []
          },
          "execution_count": 38
        }
      ]
    },
    {
      "cell_type": "markdown",
      "metadata": {
        "id": "TSYn_1Wlk6lO"
      },
      "source": [
        "**85 vs 62% accuracy** - 18x84x84  13l  \n",
        "**53 vs 44% accuracy** - 18x50x50  -5,006,181"
      ]
    },
    {
      "cell_type": "markdown",
      "metadata": {
        "id": "Kqe-q70mURps"
      },
      "source": [
        "###CONV2D+GRU"
      ]
    },
    {
      "cell_type": "code",
      "metadata": {
        "id": "U6-2i7vKFUdT"
      },
      "source": [
        "model = Sequential()\n",
        "\n",
        "model.add(TimeDistributed(Conv2D(16, (2, 2), padding='same'),\n",
        "                 input_shape=(18,50,50,3)))\n",
        "model.add(Activation('relu'))\n",
        "model.add(BatchNormalization())\n",
        "model.add(TimeDistributed(Conv2D(16, (2, 2))))\n",
        "model.add(Activation('relu'))\n",
        "model.add(BatchNormalization())\n",
        "model.add(TimeDistributed(MaxPooling2D(pool_size=(2, 2))))\n",
        "model.add(Dropout(0.2))\n",
        "\n",
        "model.add(TimeDistributed(Conv2D(32, (2, 2), padding='same')))\n",
        "model.add(Activation('relu'))\n",
        "model.add(BatchNormalization())\n",
        "model.add(TimeDistributed(Conv2D(32, (2, 2), padding='same')))\n",
        "model.add(Activation('relu'))\n",
        "model.add(BatchNormalization())\n",
        "model.add(TimeDistributed(MaxPooling2D(pool_size=(2, 2))))\n",
        "model.add(Dropout(0.2))\n",
        "\n",
        "model.add(TimeDistributed(Flatten()))\n",
        "model.add(GRU(256, return_sequences=False, dropout=0.5))\n",
        "model.add(Dense(64,kernel_regularizer=l2(0.01)))\n",
        "model.add(Activation('relu'))\n",
        "model.add(Dropout(0.25))\n",
        "model.add(Dense(num_classes))\n",
        "model.add(Activation('softmax'))"
      ],
      "execution_count": null,
      "outputs": []
    },
    {
      "cell_type": "code",
      "metadata": {
        "colab": {
          "base_uri": "https://localhost:8080/"
        },
        "id": "esnC8aKEFWym",
        "outputId": "ed0f5486-3f10-45fd-b625-4dabef4a91be"
      },
      "source": [
        "# compile it\n",
        "model.compile(loss='categorical_crossentropy', optimizer='sgd', metrics=['categorical_accuracy'])\n",
        "\n",
        "# summary of model\n",
        "model.summary()"
      ],
      "execution_count": null,
      "outputs": [
        {
          "output_type": "stream",
          "text": [
            "Model: \"sequential_8\"\n",
            "_________________________________________________________________\n",
            "Layer (type)                 Output Shape              Param #   \n",
            "=================================================================\n",
            "time_distributed_14 (TimeDis (None, 18, 50, 50, 16)    208       \n",
            "_________________________________________________________________\n",
            "activation_33 (Activation)   (None, 18, 50, 50, 16)    0         \n",
            "_________________________________________________________________\n",
            "batch_normalization_29 (Batc (None, 18, 50, 50, 16)    64        \n",
            "_________________________________________________________________\n",
            "time_distributed_15 (TimeDis (None, 18, 49, 49, 16)    1040      \n",
            "_________________________________________________________________\n",
            "activation_34 (Activation)   (None, 18, 49, 49, 16)    0         \n",
            "_________________________________________________________________\n",
            "batch_normalization_30 (Batc (None, 18, 49, 49, 16)    64        \n",
            "_________________________________________________________________\n",
            "time_distributed_16 (TimeDis (None, 18, 24, 24, 16)    0         \n",
            "_________________________________________________________________\n",
            "dropout_16 (Dropout)         (None, 18, 24, 24, 16)    0         \n",
            "_________________________________________________________________\n",
            "time_distributed_17 (TimeDis (None, 18, 24, 24, 32)    2080      \n",
            "_________________________________________________________________\n",
            "activation_35 (Activation)   (None, 18, 24, 24, 32)    0         \n",
            "_________________________________________________________________\n",
            "batch_normalization_31 (Batc (None, 18, 24, 24, 32)    128       \n",
            "_________________________________________________________________\n",
            "time_distributed_18 (TimeDis (None, 18, 24, 24, 32)    4128      \n",
            "_________________________________________________________________\n",
            "activation_36 (Activation)   (None, 18, 24, 24, 32)    0         \n",
            "_________________________________________________________________\n",
            "batch_normalization_32 (Batc (None, 18, 24, 24, 32)    128       \n",
            "_________________________________________________________________\n",
            "time_distributed_19 (TimeDis (None, 18, 12, 12, 32)    0         \n",
            "_________________________________________________________________\n",
            "dropout_17 (Dropout)         (None, 18, 12, 12, 32)    0         \n",
            "_________________________________________________________________\n",
            "time_distributed_20 (TimeDis (None, 18, 4608)          0         \n",
            "_________________________________________________________________\n",
            "gru (GRU)                    (None, 256)               3737088   \n",
            "_________________________________________________________________\n",
            "dense_14 (Dense)             (None, 64)                16448     \n",
            "_________________________________________________________________\n",
            "activation_37 (Activation)   (None, 64)                0         \n",
            "_________________________________________________________________\n",
            "dropout_18 (Dropout)         (None, 64)                0         \n",
            "_________________________________________________________________\n",
            "dense_15 (Dense)             (None, 5)                 325       \n",
            "_________________________________________________________________\n",
            "activation_38 (Activation)   (None, 5)                 0         \n",
            "=================================================================\n",
            "Total params: 3,761,701\n",
            "Trainable params: 3,761,509\n",
            "Non-trainable params: 192\n",
            "_________________________________________________________________\n"
          ],
          "name": "stdout"
        }
      ]
    },
    {
      "cell_type": "code",
      "metadata": {
        "colab": {
          "base_uri": "https://localhost:8080/"
        },
        "id": "HDkVBwHbFWyt",
        "outputId": "4d7b1ba3-0ff4-4032-c147-aac3e41d9045"
      },
      "source": [
        "model.fit_generator(train_generator, steps_per_epoch=steps_per_epoch, epochs=35, verbose=1, \n",
        "                    callbacks=callbacks_list, validation_data=val_generator, \n",
        "                    validation_steps=validation_steps, class_weight=None, workers=1, initial_epoch=0)"
      ],
      "execution_count": null,
      "outputs": [
        {
          "output_type": "stream",
          "text": [
            "/usr/local/lib/python3.7/dist-packages/tensorflow/python/keras/engine/training.py:1844: UserWarning: `Model.fit_generator` is deprecated and will be removed in a future version. Please use `Model.fit`, which supports generators.\n",
            "  warnings.warn('`Model.fit_generator` is deprecated and '\n",
            "/usr/local/lib/python3.7/dist-packages/ipykernel_launcher.py:13: DeprecationWarning:     `imread` is deprecated!\n",
            "    `imread` is deprecated in SciPy 1.0.0, and will be removed in 1.2.0.\n",
            "    Use ``imageio.imread`` instead.\n",
            "  del sys.path[0]\n",
            "/usr/local/lib/python3.7/dist-packages/ipykernel_launcher.py:17: DeprecationWarning:     `imresize` is deprecated!\n",
            "    `imresize` is deprecated in SciPy 1.0.0, and will be removed in 1.2.0.\n",
            "    Use ``skimage.transform.resize`` instead.\n",
            "/usr/local/lib/python3.7/dist-packages/ipykernel_launcher.py:19: DeprecationWarning:     `imresize` is deprecated!\n",
            "    `imresize` is deprecated in SciPy 1.0.0, and will be removed in 1.2.0.\n",
            "    Use ``skimage.transform.resize`` instead.\n"
          ],
          "name": "stderr"
        },
        {
          "output_type": "stream",
          "text": [
            "Epoch 1/35\n",
            " 8/11 [====================>.........] - ETA: 13s - loss: 2.8886 - categorical_accuracy: 0.1799"
          ],
          "name": "stdout"
        },
        {
          "output_type": "stream",
          "text": [
            "/usr/local/lib/python3.7/dist-packages/ipykernel_launcher.py:39: DeprecationWarning:     `imread` is deprecated!\n",
            "    `imread` is deprecated in SciPy 1.0.0, and will be removed in 1.2.0.\n",
            "    Use ``imageio.imread`` instead.\n",
            "/usr/local/lib/python3.7/dist-packages/ipykernel_launcher.py:43: DeprecationWarning:     `imresize` is deprecated!\n",
            "    `imresize` is deprecated in SciPy 1.0.0, and will be removed in 1.2.0.\n",
            "    Use ``skimage.transform.resize`` instead.\n",
            "/usr/local/lib/python3.7/dist-packages/ipykernel_launcher.py:45: DeprecationWarning:     `imresize` is deprecated!\n",
            "    `imresize` is deprecated in SciPy 1.0.0, and will be removed in 1.2.0.\n",
            "    Use ``skimage.transform.resize`` instead.\n"
          ],
          "name": "stderr"
        },
        {
          "output_type": "stream",
          "text": [
            "11/11 [==============================] - 61s 6s/step - loss: 2.8717 - categorical_accuracy: 0.1842 - val_loss: 2.7813 - val_categorical_accuracy: 0.2400\n",
            "Epoch 2/35\n",
            "11/11 [==============================] - 55s 5s/step - loss: 2.6962 - categorical_accuracy: 0.2606 - val_loss: 2.6710 - val_categorical_accuracy: 0.3000\n",
            "Epoch 3/35\n",
            "11/11 [==============================] - 58s 6s/step - loss: 2.6099 - categorical_accuracy: 0.2822 - val_loss: 2.6957 - val_categorical_accuracy: 0.2200\n",
            "Epoch 4/35\n",
            "11/11 [==============================] - 55s 5s/step - loss: 2.5840 - categorical_accuracy: 0.2956 - val_loss: 2.6807 - val_categorical_accuracy: 0.2400\n",
            "\n",
            "Epoch 00004: ReduceLROnPlateau reducing learning rate to 0.004999999888241291.\n",
            "Epoch 5/35\n",
            "11/11 [==============================] - 58s 6s/step - loss: 2.4916 - categorical_accuracy: 0.3603 - val_loss: 2.6353 - val_categorical_accuracy: 0.2300\n",
            "Epoch 6/35\n",
            "11/11 [==============================] - 55s 6s/step - loss: 2.4095 - categorical_accuracy: 0.4133 - val_loss: 2.6362 - val_categorical_accuracy: 0.2700\n",
            "Epoch 7/35\n",
            "11/11 [==============================] - 58s 6s/step - loss: 2.4570 - categorical_accuracy: 0.3521 - val_loss: 2.6939 - val_categorical_accuracy: 0.2500\n",
            "\n",
            "Epoch 00007: ReduceLROnPlateau reducing learning rate to 0.0024999999441206455.\n",
            "Epoch 8/35\n",
            "11/11 [==============================] - 55s 6s/step - loss: 2.3686 - categorical_accuracy: 0.4311 - val_loss: 2.5946 - val_categorical_accuracy: 0.2700\n",
            "Epoch 9/35\n",
            "11/11 [==============================] - 57s 6s/step - loss: 2.3672 - categorical_accuracy: 0.4075 - val_loss: 2.5850 - val_categorical_accuracy: 0.3000\n",
            "Epoch 10/35\n",
            "11/11 [==============================] - 56s 6s/step - loss: 2.3856 - categorical_accuracy: 0.4226 - val_loss: 2.6609 - val_categorical_accuracy: 0.3000\n",
            "Epoch 11/35\n",
            "11/11 [==============================] - 58s 6s/step - loss: 2.3281 - categorical_accuracy: 0.4412 - val_loss: 2.6118 - val_categorical_accuracy: 0.3400\n",
            "\n",
            "Epoch 00011: ReduceLROnPlateau reducing learning rate to 0.0012499999720603228.\n",
            "Epoch 12/35\n",
            "11/11 [==============================] - 54s 5s/step - loss: 2.2851 - categorical_accuracy: 0.4885 - val_loss: 2.5019 - val_categorical_accuracy: 0.3600\n",
            "Epoch 13/35\n",
            "11/11 [==============================] - 58s 6s/step - loss: 2.3175 - categorical_accuracy: 0.4468 - val_loss: 2.4810 - val_categorical_accuracy: 0.4200\n",
            "Epoch 14/35\n",
            "11/11 [==============================] - 55s 6s/step - loss: 2.3249 - categorical_accuracy: 0.4573 - val_loss: 2.5212 - val_categorical_accuracy: 0.3600\n",
            "Epoch 15/35\n",
            "11/11 [==============================] - 57s 6s/step - loss: 2.3284 - categorical_accuracy: 0.4382 - val_loss: 2.5398 - val_categorical_accuracy: 0.3800\n",
            "\n",
            "Epoch 00015: ReduceLROnPlateau reducing learning rate to 0.0006249999860301614.\n",
            "Epoch 16/35\n",
            "11/11 [==============================] - 55s 5s/step - loss: 2.2724 - categorical_accuracy: 0.4748 - val_loss: 2.5208 - val_categorical_accuracy: 0.3800\n",
            "Epoch 17/35\n",
            "11/11 [==============================] - 58s 6s/step - loss: 2.3017 - categorical_accuracy: 0.4564 - val_loss: 2.5637 - val_categorical_accuracy: 0.4000\n",
            "\n",
            "Epoch 00017: ReduceLROnPlateau reducing learning rate to 0.0003124999930150807.\n",
            "Epoch 18/35\n",
            "11/11 [==============================] - 56s 6s/step - loss: 2.2634 - categorical_accuracy: 0.4561 - val_loss: 2.4119 - val_categorical_accuracy: 0.4500\n",
            "Epoch 19/35\n",
            "11/11 [==============================] - 57s 6s/step - loss: 2.3123 - categorical_accuracy: 0.4629 - val_loss: 2.4418 - val_categorical_accuracy: 0.4600\n",
            "Epoch 20/35\n",
            "11/11 [==============================] - 55s 5s/step - loss: 2.2767 - categorical_accuracy: 0.4635 - val_loss: 2.6290 - val_categorical_accuracy: 0.3700\n",
            "\n",
            "Epoch 00020: ReduceLROnPlateau reducing learning rate to 0.00015624999650754035.\n",
            "Epoch 21/35\n",
            "11/11 [==============================] - 58s 6s/step - loss: 2.3072 - categorical_accuracy: 0.4321 - val_loss: 2.4787 - val_categorical_accuracy: 0.4500\n",
            "Epoch 22/35\n",
            "11/11 [==============================] - 53s 5s/step - loss: 2.2939 - categorical_accuracy: 0.4727 - val_loss: 2.5227 - val_categorical_accuracy: 0.4000\n",
            "\n",
            "Epoch 00022: ReduceLROnPlateau reducing learning rate to 7.812499825377017e-05.\n",
            "Epoch 23/35\n",
            "11/11 [==============================] - 58s 6s/step - loss: 2.2729 - categorical_accuracy: 0.4936 - val_loss: 2.5067 - val_categorical_accuracy: 0.4200\n",
            "Epoch 24/35\n",
            "11/11 [==============================] - 56s 6s/step - loss: 2.3206 - categorical_accuracy: 0.4331 - val_loss: 2.4261 - val_categorical_accuracy: 0.4300\n",
            "\n",
            "Epoch 00024: ReduceLROnPlateau reducing learning rate to 3.9062499126885086e-05.\n",
            "Epoch 25/35\n",
            "11/11 [==============================] - 57s 6s/step - loss: 2.2836 - categorical_accuracy: 0.4948 - val_loss: 2.5798 - val_categorical_accuracy: 0.4100\n",
            "Epoch 26/35\n",
            "11/11 [==============================] - 55s 6s/step - loss: 2.2760 - categorical_accuracy: 0.4765 - val_loss: 2.4515 - val_categorical_accuracy: 0.4500\n",
            "\n",
            "Epoch 00026: ReduceLROnPlateau reducing learning rate to 1.9531249563442543e-05.\n",
            "Epoch 27/35\n",
            "11/11 [==============================] - 57s 6s/step - loss: 2.2867 - categorical_accuracy: 0.4692 - val_loss: 2.5310 - val_categorical_accuracy: 0.4100\n",
            "Epoch 28/35\n",
            "11/11 [==============================] - 55s 5s/step - loss: 2.2835 - categorical_accuracy: 0.4769 - val_loss: 2.4888 - val_categorical_accuracy: 0.4300\n",
            "\n",
            "Epoch 00028: ReduceLROnPlateau reducing learning rate to 1e-05.\n",
            "Epoch 29/35\n",
            "11/11 [==============================] - 56s 6s/step - loss: 2.3024 - categorical_accuracy: 0.4455 - val_loss: 2.4730 - val_categorical_accuracy: 0.4300\n",
            "Epoch 30/35\n",
            "11/11 [==============================] - 56s 6s/step - loss: 2.2592 - categorical_accuracy: 0.4639 - val_loss: 2.6135 - val_categorical_accuracy: 0.3900\n",
            "Epoch 31/35\n",
            "11/11 [==============================] - 58s 6s/step - loss: 2.2672 - categorical_accuracy: 0.4710 - val_loss: 2.4393 - val_categorical_accuracy: 0.4800\n",
            "Epoch 32/35\n",
            "11/11 [==============================] - 56s 6s/step - loss: 2.2180 - categorical_accuracy: 0.5255 - val_loss: 2.5137 - val_categorical_accuracy: 0.3800\n",
            "Epoch 33/35\n",
            "11/11 [==============================] - 57s 6s/step - loss: 2.2939 - categorical_accuracy: 0.4449 - val_loss: 2.4798 - val_categorical_accuracy: 0.4200\n",
            "Epoch 34/35\n",
            "11/11 [==============================] - 56s 6s/step - loss: 2.3100 - categorical_accuracy: 0.4237 - val_loss: 2.4143 - val_categorical_accuracy: 0.4200\n",
            "Epoch 35/35\n",
            "11/11 [==============================] - 58s 6s/step - loss: 2.2904 - categorical_accuracy: 0.4860 - val_loss: 2.5060 - val_categorical_accuracy: 0.3900\n"
          ],
          "name": "stdout"
        },
        {
          "output_type": "execute_result",
          "data": {
            "text/plain": [
              "<tensorflow.python.keras.callbacks.History at 0x7fa906369910>"
            ]
          },
          "metadata": {
            "tags": []
          },
          "execution_count": 41
        }
      ]
    },
    {
      "cell_type": "markdown",
      "metadata": {
        "id": "6zPLkUynvLre"
      },
      "source": [
        "**81 vs 68% accuracy** - 18x84x84  - 10l  \n",
        "**48 vs 39% accuracy** - 18x50x50 - 3,761,509  "
      ]
    },
    {
      "cell_type": "code",
      "metadata": {
        "id": "KXeghPRYvQam"
      },
      "source": [
        "from keras.layers.convolutional import Conv2D, MaxPooling2D\n",
        "from keras.layers import LSTM,GRU\n",
        "from keras.regularizers import l2\n",
        "\n",
        "model = Sequential()\n",
        "\n",
        "model.add(TimeDistributed(Conv2D(16, (3, 3), padding='same'),\n",
        "                 input_shape=(15,50,50,3)))\n",
        "model.add(Activation('relu'))\n",
        "model.add(BatchNormalization())\n",
        "model.add(TimeDistributed(MaxPooling2D(pool_size=(2, 2))))\n",
        "#model.add(Dropout(0.2))\n",
        "\n",
        "model.add(TimeDistributed(Conv2D(32, (3, 3), padding='same')))\n",
        "model.add(Activation('relu'))\n",
        "model.add(BatchNormalization())\n",
        "model.add(TimeDistributed(MaxPooling2D(pool_size=(2, 2))))\n",
        "#model.add(Dropout(0.2))\n",
        "\n",
        "model.add(TimeDistributed(Conv2D(64, (3, 3), padding='same')))\n",
        "model.add(Activation('relu'))\n",
        "model.add(BatchNormalization())\n",
        "model.add(TimeDistributed(MaxPooling2D(pool_size=(2, 2))))\n",
        "#model.add(Dropout(0.2))\n",
        "\n",
        "model.add(TimeDistributed(Conv2D(128, (3, 3), padding='same')))\n",
        "model.add(Activation('relu'))\n",
        "model.add(BatchNormalization())\n",
        "model.add(TimeDistributed(MaxPooling2D(pool_size=(2, 2))))\n",
        "#model.add(Dropout(0.2))\n",
        "\n",
        "model.add(TimeDistributed(Flatten()))\n",
        "model.add(GRU(128, return_sequences=False, dropout=0.5))\n",
        "model.add(Dense(128,kernel_regularizer=l2(0.01)))\n",
        "model.add(Activation('relu'))\n",
        "model.add(Dropout(0.25))\n",
        "model.add(Dense(num_classes))\n",
        "model.add(Activation('softmax'))"
      ],
      "execution_count": null,
      "outputs": []
    },
    {
      "cell_type": "code",
      "metadata": {
        "colab": {
          "base_uri": "https://localhost:8080/"
        },
        "id": "vx1DQQAe93eE",
        "outputId": "00a42951-fc82-4077-8ae8-920f94bb7c2e"
      },
      "source": [
        "optimiser = optimizers.Adam(lr=0.0002)\n",
        "model.compile(optimizer=optimiser, loss='categorical_crossentropy', metrics=['categorical_accuracy'])\n",
        "model.summary()"
      ],
      "execution_count": null,
      "outputs": [
        {
          "output_type": "stream",
          "text": [
            "Model: \"sequential_6\"\n",
            "_________________________________________________________________\n",
            "Layer (type)                 Output Shape              Param #   \n",
            "=================================================================\n",
            "time_distributed_27 (TimeDis (None, 15, 50, 50, 16)    448       \n",
            "_________________________________________________________________\n",
            "activation_20 (Activation)   (None, 15, 50, 50, 16)    0         \n",
            "_________________________________________________________________\n",
            "batch_normalization_20 (Batc (None, 15, 50, 50, 16)    64        \n",
            "_________________________________________________________________\n",
            "time_distributed_28 (TimeDis (None, 15, 25, 25, 16)    0         \n",
            "_________________________________________________________________\n",
            "time_distributed_29 (TimeDis (None, 15, 25, 25, 32)    4640      \n",
            "_________________________________________________________________\n",
            "activation_21 (Activation)   (None, 15, 25, 25, 32)    0         \n",
            "_________________________________________________________________\n",
            "batch_normalization_21 (Batc (None, 15, 25, 25, 32)    128       \n",
            "_________________________________________________________________\n",
            "time_distributed_30 (TimeDis (None, 15, 12, 12, 32)    0         \n",
            "_________________________________________________________________\n",
            "time_distributed_31 (TimeDis (None, 15, 12, 12, 64)    18496     \n",
            "_________________________________________________________________\n",
            "activation_22 (Activation)   (None, 15, 12, 12, 64)    0         \n",
            "_________________________________________________________________\n",
            "batch_normalization_22 (Batc (None, 15, 12, 12, 64)    256       \n",
            "_________________________________________________________________\n",
            "time_distributed_32 (TimeDis (None, 15, 6, 6, 64)      0         \n",
            "_________________________________________________________________\n",
            "time_distributed_33 (TimeDis (None, 15, 6, 6, 128)     73856     \n",
            "_________________________________________________________________\n",
            "activation_23 (Activation)   (None, 15, 6, 6, 128)     0         \n",
            "_________________________________________________________________\n",
            "batch_normalization_23 (Batc (None, 15, 6, 6, 128)     512       \n",
            "_________________________________________________________________\n",
            "time_distributed_34 (TimeDis (None, 15, 3, 3, 128)     0         \n",
            "_________________________________________________________________\n",
            "time_distributed_35 (TimeDis (None, 15, 1152)          0         \n",
            "_________________________________________________________________\n",
            "gru_3 (GRU)                  (None, 128)               492288    \n",
            "_________________________________________________________________\n",
            "dense_7 (Dense)              (None, 128)               16512     \n",
            "_________________________________________________________________\n",
            "activation_24 (Activation)   (None, 128)               0         \n",
            "_________________________________________________________________\n",
            "dropout_5 (Dropout)          (None, 128)               0         \n",
            "_________________________________________________________________\n",
            "dense_8 (Dense)              (None, 5)                 645       \n",
            "_________________________________________________________________\n",
            "activation_25 (Activation)   (None, 5)                 0         \n",
            "=================================================================\n",
            "Total params: 607,845\n",
            "Trainable params: 607,365\n",
            "Non-trainable params: 480\n",
            "_________________________________________________________________\n"
          ],
          "name": "stdout"
        }
      ]
    },
    {
      "cell_type": "code",
      "metadata": {
        "colab": {
          "base_uri": "https://localhost:8080/"
        },
        "id": "gqhBdNEI47sS",
        "outputId": "570e6eb9-bacc-4af9-e4ed-3c29c06e544b"
      },
      "source": [
        "history2 = model.fit_generator(train_generator, steps_per_epoch=steps_per_epoch, epochs=10, verbose=1, \n",
        "                    callbacks=callbacks_list, validation_data=val_generator, \n",
        "                    validation_steps=validation_steps, class_weight=None, workers=1, initial_epoch=0)"
      ],
      "execution_count": null,
      "outputs": [
        {
          "output_type": "stream",
          "text": [
            "Epoch 1/10\n",
            "11/11 [==============================] - 90s 8s/step - loss: 3.0732 - categorical_accuracy: 0.2107 - val_loss: 3.1468 - val_categorical_accuracy: 0.2200\n",
            "Epoch 2/10\n",
            "11/11 [==============================] - 87s 8s/step - loss: 2.8072 - categorical_accuracy: 0.3030 - val_loss: 3.5032 - val_categorical_accuracy: 0.2400\n",
            "Epoch 3/10\n",
            "11/11 [==============================] - 87s 8s/step - loss: 2.6413 - categorical_accuracy: 0.4272 - val_loss: 3.4297 - val_categorical_accuracy: 0.2400\n",
            "\n",
            "Epoch 00003: ReduceLROnPlateau reducing learning rate to 3.9999998989515007e-05.\n",
            "Epoch 4/10\n",
            "11/11 [==============================] - 88s 8s/step - loss: 2.5106 - categorical_accuracy: 0.5206 - val_loss: 3.4548 - val_categorical_accuracy: 0.2200\n",
            "Epoch 5/10\n",
            "11/11 [==============================] - 86s 8s/step - loss: 2.5308 - categorical_accuracy: 0.4691 - val_loss: 3.3774 - val_categorical_accuracy: 0.2300\n",
            "\n",
            "Epoch 00005: ReduceLROnPlateau reducing learning rate to 7.999999797903002e-06.\n",
            "Epoch 6/10\n",
            "11/11 [==============================] - 87s 8s/step - loss: 2.4812 - categorical_accuracy: 0.4906 - val_loss: 3.4229 - val_categorical_accuracy: 0.2100\n",
            "Epoch 7/10\n",
            "11/11 [==============================] - 84s 8s/step - loss: 2.4436 - categorical_accuracy: 0.5180 - val_loss: 3.3060 - val_categorical_accuracy: 0.2300\n",
            "\n",
            "Epoch 00007: ReduceLROnPlateau reducing learning rate to 1.5999999959603884e-06.\n",
            "Epoch 8/10\n",
            "11/11 [==============================] - 87s 8s/step - loss: 2.4712 - categorical_accuracy: 0.4931 - val_loss: 3.2382 - val_categorical_accuracy: 0.2600\n",
            "Epoch 9/10\n",
            "11/11 [==============================] - 85s 8s/step - loss: 2.4650 - categorical_accuracy: 0.5150 - val_loss: 3.2845 - val_categorical_accuracy: 0.1800\n",
            "\n",
            "Epoch 00009: ReduceLROnPlateau reducing learning rate to 3.200000037395512e-07.\n",
            "Epoch 10/10\n",
            "11/11 [==============================] - 88s 8s/step - loss: 2.5255 - categorical_accuracy: 0.4641 - val_loss: 3.1507 - val_categorical_accuracy: 0.2400\n"
          ],
          "name": "stdout"
        }
      ]
    },
    {
      "cell_type": "markdown",
      "metadata": {
        "id": "m9P4Yn0XaP5A"
      },
      "source": [
        "###CONV3D (15x50x50)"
      ]
    },
    {
      "cell_type": "code",
      "metadata": {
        "id": "td2rVNGU24Qi"
      },
      "source": [
        "model = Sequential()\n",
        "model.add(Conv3D(16, (3, 3, 3), padding='same',\n",
        "       input_shape=(15,50,50,3)))\n",
        "model.add(Activation('relu'))\n",
        "model.add(BatchNormalization())\n",
        "model.add(MaxPooling3D(pool_size=(2, 2, 2)))\n",
        "\n",
        "model.add(Conv3D(32, (2, 2, 2), padding='same'))\n",
        "model.add(Activation('relu'))\n",
        "model.add(BatchNormalization())\n",
        "model.add(MaxPooling3D(pool_size=(2, 2, 2)))\n",
        "\n",
        "model.add(Conv3D(64, (2, 2, 2), padding='same'))\n",
        "model.add(Activation('relu'))\n",
        "model.add(BatchNormalization())\n",
        "model.add(MaxPooling3D(pool_size=(2, 2, 2)))\n",
        "\n",
        "model.add(Flatten())\n",
        "model.add(Dense(128,activation='relu')) #kernel_regularizer=l2(0.01), \n",
        "model.add(BatchNormalization())\n",
        "model.add(Dropout(0.5))\n",
        "\n",
        "model.add(Dense(64,activation='relu'))\n",
        "model.add(BatchNormalization())\n",
        "model.add(Dropout(0.25))\n",
        "\n",
        "model.add(Dense(num_classes,activation='softmax'))\n",
        "\n",
        "optimiser = optimizers.Adam(lr=0.0002)\n",
        "#optimiser = 'sgd'\n",
        "model.compile(optimizer=optimiser, loss='categorical_crossentropy', metrics=['categorical_accuracy'])"
      ],
      "execution_count": null,
      "outputs": []
    },
    {
      "cell_type": "code",
      "metadata": {
        "colab": {
          "base_uri": "https://localhost:8080/"
        },
        "id": "mIIqWfHd7Tiy",
        "outputId": "4b727653-2f8a-4643-cc53-89b0110a2d1f"
      },
      "source": [
        "# summary of model\n",
        "model.summary()"
      ],
      "execution_count": null,
      "outputs": [
        {
          "output_type": "stream",
          "text": [
            "Model: \"sequential_1\"\n",
            "_________________________________________________________________\n",
            "Layer (type)                 Output Shape              Param #   \n",
            "=================================================================\n",
            "conv3d_3 (Conv3D)            (None, 15, 50, 50, 16)    1312      \n",
            "_________________________________________________________________\n",
            "activation_3 (Activation)    (None, 15, 50, 50, 16)    0         \n",
            "_________________________________________________________________\n",
            "batch_normalization_3 (Batch (None, 15, 50, 50, 16)    64        \n",
            "_________________________________________________________________\n",
            "max_pooling3d_3 (MaxPooling3 (None, 7, 25, 25, 16)     0         \n",
            "_________________________________________________________________\n",
            "conv3d_4 (Conv3D)            (None, 7, 25, 25, 32)     4128      \n",
            "_________________________________________________________________\n",
            "activation_4 (Activation)    (None, 7, 25, 25, 32)     0         \n",
            "_________________________________________________________________\n",
            "batch_normalization_4 (Batch (None, 7, 25, 25, 32)     128       \n",
            "_________________________________________________________________\n",
            "max_pooling3d_4 (MaxPooling3 (None, 3, 12, 12, 32)     0         \n",
            "_________________________________________________________________\n",
            "conv3d_5 (Conv3D)            (None, 3, 12, 12, 64)     16448     \n",
            "_________________________________________________________________\n",
            "activation_5 (Activation)    (None, 3, 12, 12, 64)     0         \n",
            "_________________________________________________________________\n",
            "batch_normalization_5 (Batch (None, 3, 12, 12, 64)     256       \n",
            "_________________________________________________________________\n",
            "max_pooling3d_5 (MaxPooling3 (None, 1, 6, 6, 64)       0         \n",
            "_________________________________________________________________\n",
            "flatten_1 (Flatten)          (None, 2304)              0         \n",
            "_________________________________________________________________\n",
            "dense_2 (Dense)              (None, 128)               295040    \n",
            "_________________________________________________________________\n",
            "batch_normalization_6 (Batch (None, 128)               512       \n",
            "_________________________________________________________________\n",
            "dropout_2 (Dropout)          (None, 128)               0         \n",
            "_________________________________________________________________\n",
            "dense_3 (Dense)              (None, 64)                8256      \n",
            "_________________________________________________________________\n",
            "batch_normalization_7 (Batch (None, 64)                256       \n",
            "_________________________________________________________________\n",
            "dropout_3 (Dropout)          (None, 64)                0         \n",
            "_________________________________________________________________\n",
            "dense_4 (Dense)              (None, 5)                 325       \n",
            "=================================================================\n",
            "Total params: 326,725\n",
            "Trainable params: 326,117\n",
            "Non-trainable params: 608\n",
            "_________________________________________________________________\n"
          ],
          "name": "stdout"
        }
      ]
    },
    {
      "cell_type": "code",
      "metadata": {
        "colab": {
          "base_uri": "https://localhost:8080/"
        },
        "id": "N4JX4AJq46DA",
        "outputId": "85b8da60-54bc-4e53-a288-2604a305b16a"
      },
      "source": [
        "history1 = model.fit_generator(train_generator, steps_per_epoch=steps_per_epoch, epochs=35, verbose=1, \n",
        "                    callbacks=callbacks_list, validation_data=val_generator, \n",
        "                    validation_steps=validation_steps, class_weight=None, workers=1, initial_epoch=5)"
      ],
      "execution_count": null,
      "outputs": [
        {
          "output_type": "stream",
          "text": [
            "Epoch 6/35\n",
            "11/11 [==============================] - 114s 10s/step - loss: 1.2652 - categorical_accuracy: 0.5279 - val_loss: 2.4605 - val_categorical_accuracy: 0.2300\n",
            "Epoch 7/35\n",
            "11/11 [==============================] - 114s 10s/step - loss: 1.1776 - categorical_accuracy: 0.5339 - val_loss: 2.1081 - val_categorical_accuracy: 0.2800\n",
            "Epoch 8/35\n",
            "11/11 [==============================] - 114s 10s/step - loss: 1.1121 - categorical_accuracy: 0.5732 - val_loss: 1.9397 - val_categorical_accuracy: 0.3000\n",
            "Epoch 9/35\n",
            "11/11 [==============================] - 116s 11s/step - loss: 1.0908 - categorical_accuracy: 0.5943 - val_loss: 1.8132 - val_categorical_accuracy: 0.2700\n",
            "Epoch 10/35\n",
            "11/11 [==============================] - 113s 10s/step - loss: 1.0479 - categorical_accuracy: 0.6169 - val_loss: 1.8224 - val_categorical_accuracy: 0.2700\n",
            "Epoch 11/35\n",
            "11/11 [==============================] - 115s 11s/step - loss: 0.9459 - categorical_accuracy: 0.6094 - val_loss: 1.5169 - val_categorical_accuracy: 0.3300\n",
            "Epoch 12/35\n",
            "11/11 [==============================] - 112s 10s/step - loss: 0.9012 - categorical_accuracy: 0.6606 - val_loss: 1.7684 - val_categorical_accuracy: 0.3100\n",
            "Epoch 13/35\n",
            "11/11 [==============================] - 113s 10s/step - loss: 0.8908 - categorical_accuracy: 0.6652 - val_loss: 1.6393 - val_categorical_accuracy: 0.3200\n",
            "\n",
            "Epoch 00013: ReduceLROnPlateau reducing learning rate to 3.9999998989515007e-05.\n",
            "Epoch 14/35\n",
            "11/11 [==============================] - 111s 10s/step - loss: 0.9617 - categorical_accuracy: 0.6169 - val_loss: 1.5080 - val_categorical_accuracy: 0.4500\n",
            "Epoch 15/35\n",
            "11/11 [==============================] - 115s 11s/step - loss: 0.8617 - categorical_accuracy: 0.6637 - val_loss: 1.3654 - val_categorical_accuracy: 0.4600\n",
            "Epoch 16/35\n",
            "11/11 [==============================] - 118s 11s/step - loss: 0.7890 - categorical_accuracy: 0.7059 - val_loss: 1.5974 - val_categorical_accuracy: 0.4400\n",
            "Epoch 17/35\n",
            "11/11 [==============================] - 117s 11s/step - loss: 0.8831 - categorical_accuracy: 0.6998 - val_loss: 1.4901 - val_categorical_accuracy: 0.4500\n",
            "\n",
            "Epoch 00017: ReduceLROnPlateau reducing learning rate to 7.999999797903002e-06.\n",
            "Epoch 18/35\n",
            "11/11 [==============================] - 112s 10s/step - loss: 0.8546 - categorical_accuracy: 0.7014 - val_loss: 1.5137 - val_categorical_accuracy: 0.4300\n",
            "Epoch 19/35\n",
            "11/11 [==============================] - 114s 10s/step - loss: 0.8110 - categorical_accuracy: 0.7195 - val_loss: 1.3301 - val_categorical_accuracy: 0.4600\n",
            "Epoch 20/35\n",
            "11/11 [==============================] - 113s 10s/step - loss: 0.8258 - categorical_accuracy: 0.7119 - val_loss: 1.5185 - val_categorical_accuracy: 0.4600\n",
            "Epoch 21/35\n",
            "11/11 [==============================] - 119s 11s/step - loss: 0.8233 - categorical_accuracy: 0.6998 - val_loss: 1.3840 - val_categorical_accuracy: 0.4200\n",
            "\n",
            "Epoch 00021: ReduceLROnPlateau reducing learning rate to 1.5999999959603884e-06.\n",
            "Epoch 22/35\n",
            "11/11 [==============================] - 116s 11s/step - loss: 0.8416 - categorical_accuracy: 0.7044 - val_loss: 1.4127 - val_categorical_accuracy: 0.5000\n",
            "Epoch 23/35\n",
            "11/11 [==============================] - 121s 11s/step - loss: 0.7883 - categorical_accuracy: 0.7104 - val_loss: 1.3899 - val_categorical_accuracy: 0.4500\n",
            "\n",
            "Epoch 00023: ReduceLROnPlateau reducing learning rate to 3.200000037395512e-07.\n",
            "Epoch 24/35\n",
            "11/11 [==============================] - 117s 11s/step - loss: 0.7742 - categorical_accuracy: 0.7179 - val_loss: 1.4143 - val_categorical_accuracy: 0.4400\n",
            "Epoch 25/35\n",
            "11/11 [==============================] - 118s 11s/step - loss: 0.8064 - categorical_accuracy: 0.7044 - val_loss: 1.6365 - val_categorical_accuracy: 0.3900\n",
            "\n",
            "Epoch 00025: ReduceLROnPlateau reducing learning rate to 6.399999961104187e-08.\n",
            "Epoch 26/35\n",
            "11/11 [==============================] - 115s 11s/step - loss: 0.8265 - categorical_accuracy: 0.7179 - val_loss: 1.3705 - val_categorical_accuracy: 0.4400\n",
            "Epoch 27/35\n",
            "11/11 [==============================] - 119s 11s/step - loss: 0.8402 - categorical_accuracy: 0.7089 - val_loss: 1.5841 - val_categorical_accuracy: 0.3900\n",
            "\n",
            "Epoch 00027: ReduceLROnPlateau reducing learning rate to 1.2799999637991278e-08.\n",
            "Epoch 28/35\n",
            "11/11 [==============================] - 118s 11s/step - loss: 0.7774 - categorical_accuracy: 0.7059 - val_loss: 1.3412 - val_categorical_accuracy: 0.4300\n",
            "Epoch 29/35\n",
            "11/11 [==============================] - 120s 11s/step - loss: 0.8027 - categorical_accuracy: 0.7225 - val_loss: 1.5370 - val_categorical_accuracy: 0.4100\n",
            "\n",
            "Epoch 00029: ReduceLROnPlateau reducing learning rate to 2.559999856543982e-09.\n",
            "Epoch 30/35\n",
            "11/11 [==============================] - 119s 11s/step - loss: 0.7629 - categorical_accuracy: 0.7225 - val_loss: 1.5033 - val_categorical_accuracy: 0.3700\n",
            "Epoch 31/35\n",
            "11/11 [==============================] - 120s 11s/step - loss: 0.8146 - categorical_accuracy: 0.7164 - val_loss: 1.3580 - val_categorical_accuracy: 0.4800\n",
            "\n",
            "Epoch 00031: ReduceLROnPlateau reducing learning rate to 5.11999953545228e-10.\n",
            "Epoch 32/35\n",
            "11/11 [==============================] - 118s 11s/step - loss: 0.8500 - categorical_accuracy: 0.7029 - val_loss: 1.3938 - val_categorical_accuracy: 0.4200\n",
            "Epoch 33/35\n",
            "11/11 [==============================] - 119s 11s/step - loss: 0.8016 - categorical_accuracy: 0.7104 - val_loss: 1.4123 - val_categorical_accuracy: 0.4300\n",
            "\n",
            "Epoch 00033: ReduceLROnPlateau reducing learning rate to 1.0239998848859956e-10.\n",
            "Epoch 34/35\n",
            "11/11 [==============================] - 118s 11s/step - loss: 0.8340 - categorical_accuracy: 0.7104 - val_loss: 1.3471 - val_categorical_accuracy: 0.4700\n",
            "Epoch 35/35\n",
            "11/11 [==============================] - 118s 11s/step - loss: 0.7507 - categorical_accuracy: 0.7255 - val_loss: 1.6692 - val_categorical_accuracy: 0.3900\n",
            "\n",
            "Epoch 00035: ReduceLROnPlateau reducing learning rate to 2.0479998252831424e-11.\n"
          ],
          "name": "stdout"
        }
      ]
    },
    {
      "cell_type": "code",
      "metadata": {
        "colab": {
          "base_uri": "https://localhost:8080/",
          "height": 265
        },
        "id": "XVX_YFNrWTaY",
        "outputId": "8b55f20a-3a20-4794-ab5f-7d3edb258d60"
      },
      "source": [
        "plot(history)"
      ],
      "execution_count": null,
      "outputs": [
        {
          "output_type": "display_data",
          "data": {
            "image/png": "[encoded data removed]",
            "text/plain": [
              "<Figure size 1080x288 with 2 Axes>"
            ]
          },
          "metadata": {
            "tags": []
          }
        }
      ]
    },
    {
      "cell_type": "code",
      "metadata": {
        "colab": {
          "base_uri": "https://localhost:8080/",
          "height": 265
        },
        "id": "LV_zPNIqnzPL",
        "outputId": "17043868-1925-4cc6-8790-340e82f8795c"
      },
      "source": [
        "plot(history1)"
      ],
      "execution_count": null,
      "outputs": [
        {
          "output_type": "display_data",
          "data": {
            "image/png": "[encoded data removed]",
            "text/plain": [
              "<Figure size 1080x288 with 2 Axes>"
            ]
          },
          "metadata": {
            "tags": []
          }
        }
      ]
    },
    {
      "cell_type": "markdown",
      "metadata": {
        "id": "H0_d_AxmX6h3"
      },
      "source": [
        "###CONV3D (16x100x100) - 398,213\n"
      ]
    },
    {
      "cell_type": "code",
      "metadata": {
        "colab": {
          "base_uri": "https://localhost:8080/"
        },
        "id": "TydKUOKfn0tE",
        "outputId": "9c173608-bc63-4a33-825d-88f51637ea85"
      },
      "source": [
        "model = Sequential()\n",
        "model.add(Conv3D(16, (3, 3, 3), padding='same',\n",
        "      input_shape=(16,img_height,img_width,3)))\n",
        "model.add(Activation('relu'))\n",
        "model.add(BatchNormalization())\n",
        "model.add(MaxPooling3D(pool_size=(2, 2, 2)))\n",
        "\n",
        "model.add(Conv3D(32, (3, 3, 3), padding='same'))\n",
        "model.add(Activation('relu'))\n",
        "model.add(BatchNormalization())\n",
        "model.add(MaxPooling3D(pool_size=(2, 2, 2)))\n",
        "\n",
        "model.add(Conv3D(64, (2, 2, 2), padding='same'))\n",
        "model.add(Activation('relu'))\n",
        "model.add(BatchNormalization())\n",
        "model.add(MaxPooling3D(pool_size=(2, 2, 2)))\n",
        "\n",
        "model.add(Conv3D(128, (2, 2, 2), padding='same'))\n",
        "model.add(Activation('relu'))\n",
        "model.add(BatchNormalization())\n",
        "model.add(MaxPooling3D(pool_size=(2, 2, 2)))\n",
        "        \n",
        "model.add(Flatten())\n",
        "model.add(Dense(64,activation='relu'))\n",
        "model.add(BatchNormalization())\n",
        "model.add(Dropout(0.25))\n",
        "\n",
        "model.add(Dense(64,activation='relu'))\n",
        "model.add(BatchNormalization())\n",
        "model.add(Dropout(0.25))\n",
        "\n",
        "model.add(Dense(num_classes,activation='softmax'))\n",
        "\n",
        "optimiser = optimizers.Adam(lr=0.0002)\n",
        "model.compile(optimizer=optimiser, loss='categorical_crossentropy', metrics=['categorical_accuracy'])\n",
        "model.summary()"
      ],
      "execution_count": null,
      "outputs": [
        {
          "output_type": "stream",
          "text": [
            "Model: \"sequential_3\"\n",
            "_________________________________________________________________\n",
            "Layer (type)                 Output Shape              Param #   \n",
            "=================================================================\n",
            "conv3d_10 (Conv3D)           (None, 16, 100, 100, 16)  1312      \n",
            "_________________________________________________________________\n",
            "activation_10 (Activation)   (None, 16, 100, 100, 16)  0         \n",
            "_________________________________________________________________\n",
            "batch_normalization_12 (Batc (None, 16, 100, 100, 16)  64        \n",
            "_________________________________________________________________\n",
            "max_pooling3d_10 (MaxPooling (None, 8, 50, 50, 16)     0         \n",
            "_________________________________________________________________\n",
            "conv3d_11 (Conv3D)           (None, 8, 50, 50, 32)     13856     \n",
            "_________________________________________________________________\n",
            "activation_11 (Activation)   (None, 8, 50, 50, 32)     0         \n",
            "_________________________________________________________________\n",
            "batch_normalization_13 (Batc (None, 8, 50, 50, 32)     128       \n",
            "_________________________________________________________________\n",
            "max_pooling3d_11 (MaxPooling (None, 4, 25, 25, 32)     0         \n",
            "_________________________________________________________________\n",
            "conv3d_12 (Conv3D)           (None, 4, 25, 25, 64)     16448     \n",
            "_________________________________________________________________\n",
            "activation_12 (Activation)   (None, 4, 25, 25, 64)     0         \n",
            "_________________________________________________________________\n",
            "batch_normalization_14 (Batc (None, 4, 25, 25, 64)     256       \n",
            "_________________________________________________________________\n",
            "max_pooling3d_12 (MaxPooling (None, 2, 12, 12, 64)     0         \n",
            "_________________________________________________________________\n",
            "conv3d_13 (Conv3D)           (None, 2, 12, 12, 128)    65664     \n",
            "_________________________________________________________________\n",
            "activation_13 (Activation)   (None, 2, 12, 12, 128)    0         \n",
            "_________________________________________________________________\n",
            "batch_normalization_15 (Batc (None, 2, 12, 12, 128)    512       \n",
            "_________________________________________________________________\n",
            "max_pooling3d_13 (MaxPooling (None, 1, 6, 6, 128)      0         \n",
            "_________________________________________________________________\n",
            "flatten_3 (Flatten)          (None, 4608)              0         \n",
            "_________________________________________________________________\n",
            "dense_7 (Dense)              (None, 64)                294976    \n",
            "_________________________________________________________________\n",
            "batch_normalization_16 (Batc (None, 64)                256       \n",
            "_________________________________________________________________\n",
            "dropout_6 (Dropout)          (None, 64)                0         \n",
            "_________________________________________________________________\n",
            "dense_8 (Dense)              (None, 64)                4160      \n",
            "_________________________________________________________________\n",
            "batch_normalization_17 (Batc (None, 64)                256       \n",
            "_________________________________________________________________\n",
            "dropout_7 (Dropout)          (None, 64)                0         \n",
            "_________________________________________________________________\n",
            "dense_9 (Dense)              (None, 5)                 325       \n",
            "=================================================================\n",
            "Total params: 398,213\n",
            "Trainable params: 397,477\n",
            "Non-trainable params: 736\n",
            "_________________________________________________________________\n"
          ],
          "name": "stdout"
        }
      ]
    },
    {
      "cell_type": "code",
      "metadata": {
        "colab": {
          "base_uri": "https://localhost:8080/"
        },
        "id": "IsMuhXuLhSCw",
        "outputId": "1d0b642d-397c-465e-f9b3-02469bf3dd19"
      },
      "source": [
        "history11 = model.fit_generator(train_generator, steps_per_epoch=steps_per_epoch, epochs=5, verbose=1, \n",
        "                    callbacks=callbacks_list, validation_data=val_generator, \n",
        "                    validation_steps=validation_steps, class_weight=None, workers=1, initial_epoch=0)"
      ],
      "execution_count": null,
      "outputs": [
        {
          "output_type": "stream",
          "text": [
            "Source path =  /content/gdrive/MyDrive/Project_data/train ; batch size = 64\n",
            "Epoch 1/5\n",
            "11/11 [==============================] - ETA: 0s - loss: 2.1728 - categorical_accuracy: 0.2478 Source path =  /content/gdrive/MyDrive/Project_data/val ; batch size = 64\n",
            "11/11 [==============================] - 1050s 105s/step - loss: 2.1606 - categorical_accuracy: 0.2512 - val_loss: 6.3613 - val_categorical_accuracy: 0.2400\n",
            "Epoch 2/5\n",
            "11/11 [==============================] - 165s 16s/step - loss: 1.3992 - categorical_accuracy: 0.4573 - val_loss: 5.3693 - val_categorical_accuracy: 0.2400\n",
            "Epoch 3/5\n",
            "11/11 [==============================] - 168s 17s/step - loss: 1.1160 - categorical_accuracy: 0.5626 - val_loss: 5.6696 - val_categorical_accuracy: 0.1800\n",
            "Epoch 4/5\n",
            "11/11 [==============================] - 163s 16s/step - loss: 0.9448 - categorical_accuracy: 0.6065 - val_loss: 4.0594 - val_categorical_accuracy: 0.2400\n",
            "Epoch 5/5\n",
            "11/11 [==============================] - 171s 17s/step - loss: 0.7742 - categorical_accuracy: 0.7109 - val_loss: 2.9712 - val_categorical_accuracy: 0.3200\n"
          ],
          "name": "stdout"
        }
      ]
    },
    {
      "cell_type": "code",
      "metadata": {
        "colab": {
          "base_uri": "https://localhost:8080/"
        },
        "id": "RnWyw3adQDrx",
        "outputId": "448e160d-02aa-43dc-d18c-83240f6ec28b"
      },
      "source": [
        "history12 = model.fit_generator(train_generator, steps_per_epoch=steps_per_epoch, epochs=30, verbose=1, \n",
        "                    callbacks=callbacks_list, validation_data=val_generator, \n",
        "                    validation_steps=validation_steps, class_weight=None, workers=1, initial_epoch=5)"
      ],
      "execution_count": null,
      "outputs": [
        {
          "output_type": "stream",
          "text": [
            "Epoch 6/30\n",
            "11/11 [==============================] - 165s 16s/step - loss: 0.8139 - categorical_accuracy: 0.7014 - val_loss: 2.7370 - val_categorical_accuracy: 0.2000\n",
            "Epoch 7/30\n",
            "11/11 [==============================] - 173s 17s/step - loss: 0.7493 - categorical_accuracy: 0.7300 - val_loss: 1.9958 - val_categorical_accuracy: 0.3000\n",
            "Epoch 8/30\n",
            "11/11 [==============================] - 164s 16s/step - loss: 0.7043 - categorical_accuracy: 0.7481 - val_loss: 1.9102 - val_categorical_accuracy: 0.2600\n",
            "Epoch 9/30\n",
            "11/11 [==============================] - 170s 17s/step - loss: 0.6203 - categorical_accuracy: 0.7994 - val_loss: 1.7299 - val_categorical_accuracy: 0.2800\n",
            "Epoch 10/30\n",
            "11/11 [==============================] - 161s 16s/step - loss: 0.6019 - categorical_accuracy: 0.8220 - val_loss: 1.5689 - val_categorical_accuracy: 0.3600\n",
            "Epoch 11/30\n",
            "11/11 [==============================] - 163s 16s/step - loss: 0.5680 - categorical_accuracy: 0.8205 - val_loss: 1.7134 - val_categorical_accuracy: 0.3700\n",
            "Epoch 12/30\n",
            "11/11 [==============================] - 161s 16s/step - loss: 0.4922 - categorical_accuracy: 0.8416 - val_loss: 1.6277 - val_categorical_accuracy: 0.3300\n",
            "\n",
            "Epoch 00012: ReduceLROnPlateau reducing learning rate to 3.9999998989515007e-05.\n",
            "Epoch 13/30\n",
            "11/11 [==============================] - 169s 17s/step - loss: 0.4969 - categorical_accuracy: 0.8718 - val_loss: 1.6184 - val_categorical_accuracy: 0.3600\n",
            "Epoch 14/30\n",
            "11/11 [==============================] - 156s 15s/step - loss: 0.4967 - categorical_accuracy: 0.8627 - val_loss: 1.4898 - val_categorical_accuracy: 0.4200\n",
            "Epoch 15/30\n",
            "11/11 [==============================] - 166s 17s/step - loss: 0.4847 - categorical_accuracy: 0.8763 - val_loss: 1.5032 - val_categorical_accuracy: 0.4500\n",
            "Epoch 16/30\n",
            "11/11 [==============================] - 160s 16s/step - loss: 0.4505 - categorical_accuracy: 0.8929 - val_loss: 1.5511 - val_categorical_accuracy: 0.4800\n",
            "\n",
            "Epoch 00016: ReduceLROnPlateau reducing learning rate to 7.999999797903002e-06.\n",
            "Epoch 17/30\n",
            "11/11 [==============================] - 162s 16s/step - loss: 0.4429 - categorical_accuracy: 0.9035 - val_loss: 1.5104 - val_categorical_accuracy: 0.4900\n",
            "Epoch 18/30\n",
            "11/11 [==============================] - 162s 16s/step - loss: 0.4747 - categorical_accuracy: 0.8869 - val_loss: 1.4628 - val_categorical_accuracy: 0.4600\n",
            "Epoch 19/30\n",
            "11/11 [==============================] - 164s 16s/step - loss: 0.4741 - categorical_accuracy: 0.8748 - val_loss: 1.4472 - val_categorical_accuracy: 0.5000\n",
            "Epoch 20/30\n",
            "11/11 [==============================] - 155s 15s/step - loss: 0.4509 - categorical_accuracy: 0.8688 - val_loss: 1.4356 - val_categorical_accuracy: 0.5400\n",
            "Epoch 21/30\n",
            "11/11 [==============================] - 168s 17s/step - loss: 0.4527 - categorical_accuracy: 0.8914 - val_loss: 1.3881 - val_categorical_accuracy: 0.5400\n",
            "Epoch 22/30\n",
            "11/11 [==============================] - 157s 16s/step - loss: 0.4486 - categorical_accuracy: 0.8899 - val_loss: 1.4768 - val_categorical_accuracy: 0.4900\n",
            "Epoch 23/30\n",
            "11/11 [==============================] - 165s 16s/step - loss: 0.4714 - categorical_accuracy: 0.8884 - val_loss: 1.4132 - val_categorical_accuracy: 0.5300\n",
            "\n",
            "Epoch 00023: ReduceLROnPlateau reducing learning rate to 1.5999999959603884e-06.\n",
            "Epoch 24/30\n",
            "11/11 [==============================] - 160s 16s/step - loss: 0.4897 - categorical_accuracy: 0.8718 - val_loss: 1.5424 - val_categorical_accuracy: 0.5000\n",
            "Epoch 25/30\n",
            "11/11 [==============================] - 169s 17s/step - loss: 0.4354 - categorical_accuracy: 0.8839 - val_loss: 1.5806 - val_categorical_accuracy: 0.5100\n",
            "\n",
            "Epoch 00025: ReduceLROnPlateau reducing learning rate to 3.200000037395512e-07.\n",
            "Epoch 26/30\n",
            "11/11 [==============================] - 159s 16s/step - loss: 0.4362 - categorical_accuracy: 0.8778 - val_loss: 1.6220 - val_categorical_accuracy: 0.4500\n",
            "Epoch 27/30\n",
            "11/11 [==============================] - 161s 16s/step - loss: 0.4282 - categorical_accuracy: 0.8944 - val_loss: 1.4406 - val_categorical_accuracy: 0.5100\n",
            "\n",
            "Epoch 00027: ReduceLROnPlateau reducing learning rate to 6.399999961104187e-08.\n",
            "Epoch 28/30\n",
            "11/11 [==============================] - 156s 16s/step - loss: 0.4747 - categorical_accuracy: 0.8778 - val_loss: 1.7529 - val_categorical_accuracy: 0.4600\n",
            "Epoch 29/30\n",
            "11/11 [==============================] - 161s 16s/step - loss: 0.4182 - categorical_accuracy: 0.9050 - val_loss: 1.5589 - val_categorical_accuracy: 0.5300\n",
            "\n",
            "Epoch 00029: ReduceLROnPlateau reducing learning rate to 1.2799999637991278e-08.\n",
            "Epoch 30/30\n",
            "11/11 [==============================] - 155s 15s/step - loss: 0.4499 - categorical_accuracy: 0.8688 - val_loss: 1.4812 - val_categorical_accuracy: 0.5000\n"
          ],
          "name": "stdout"
        }
      ]
    },
    {
      "cell_type": "code",
      "metadata": {
        "colab": {
          "base_uri": "https://localhost:8080/",
          "height": 200
        },
        "id": "UIGkINdSvaC2",
        "outputId": "0ed56da8-ce36-45fa-c031-37e9c270710e"
      },
      "source": [
        "plot(history12)"
      ],
      "execution_count": null,
      "outputs": [
        {
          "output_type": "display_data",
          "data": {
            "image/png": "[encoded data removed]",
            "text/plain": [
              "<Figure size 1080x288 with 2 Axes>"
            ]
          },
          "metadata": {
            "tags": []
          }
        }
      ]
    },
    {
      "cell_type": "markdown",
      "metadata": {
        "id": "M90_idAQazfR"
      },
      "source": [
        "###CONV3D (16x120x120) - 504,709\n"
      ]
    },
    {
      "cell_type": "code",
      "metadata": {
        "colab": {
          "base_uri": "https://localhost:8080/"
        },
        "id": "5pK5K5bHazfY",
        "outputId": "2f345bd6-982f-4d8b-d27f-870b2785695e"
      },
      "source": [
        "model = Sequential()\n",
        "model.add(Conv3D(16, (2, 2, 2), padding='same',\n",
        "      input_shape=(16,img_height,img_width,3)))\n",
        "model.add(Activation('relu'))\n",
        "model.add(BatchNormalization())\n",
        "model.add(MaxPooling3D(pool_size=(2, 2, 2)))\n",
        "\n",
        "model.add(Conv3D(32, (2, 2, 2), padding='same'))\n",
        "model.add(Activation('relu'))\n",
        "model.add(BatchNormalization())\n",
        "model.add(MaxPooling3D(pool_size=(2, 2, 2)))\n",
        "\n",
        "model.add(Conv3D(64, (2, 2, 2), padding='same'))\n",
        "model.add(Activation('relu'))\n",
        "model.add(BatchNormalization())\n",
        "model.add(MaxPooling3D(pool_size=(2, 2, 2)))\n",
        "\n",
        "model.add(Conv3D(128, (2, 2, 2), padding='same'))\n",
        "model.add(Activation('relu'))\n",
        "model.add(BatchNormalization())\n",
        "model.add(MaxPooling3D(pool_size=(2, 2, 2)))\n",
        "        \n",
        "model.add(Flatten())\n",
        "model.add(Dense(256,activation='relu')\n",
        "model.add(BatchNormalization())\n",
        "model.add(Dropout(0.5))\n",
        "\n",
        "model.add(Dense(256,activation='relu')))#kernel_regularizer=l2(0.01)\n",
        "model.add(BatchNormalization())\n",
        "model.add(Dropout(0.5))\n",
        "\n",
        "model.add(Dense(num_classes,activation='softmax'))\n",
        "\n",
        "optimiser = optimizers.Adam(lr=0.0002)\n",
        "model.compile(optimizer=optimiser, loss='categorical_crossentropy', metrics=['categorical_accuracy'])\n",
        "model.summary()"
      ],
      "execution_count": 28,
      "outputs": [
        {
          "output_type": "stream",
          "text": [
            "Model: \"sequential_4\"\n",
            "_________________________________________________________________\n",
            "Layer (type)                 Output Shape              Param #   \n",
            "=================================================================\n",
            "conv3d_15 (Conv3D)           (None, 16, 120, 120, 16)  400       \n",
            "_________________________________________________________________\n",
            "activation_15 (Activation)   (None, 16, 120, 120, 16)  0         \n",
            "_________________________________________________________________\n",
            "batch_normalization_21 (Batc (None, 16, 120, 120, 16)  64        \n",
            "_________________________________________________________________\n",
            "max_pooling3d_15 (MaxPooling (None, 8, 60, 60, 16)     0         \n",
            "_________________________________________________________________\n",
            "conv3d_16 (Conv3D)           (None, 8, 60, 60, 32)     4128      \n",
            "_________________________________________________________________\n",
            "activation_16 (Activation)   (None, 8, 60, 60, 32)     0         \n",
            "_________________________________________________________________\n",
            "batch_normalization_22 (Batc (None, 8, 60, 60, 32)     128       \n",
            "_________________________________________________________________\n",
            "max_pooling3d_16 (MaxPooling (None, 4, 30, 30, 32)     0         \n",
            "_________________________________________________________________\n",
            "conv3d_17 (Conv3D)           (None, 4, 30, 30, 64)     16448     \n",
            "_________________________________________________________________\n",
            "activation_17 (Activation)   (None, 4, 30, 30, 64)     0         \n",
            "_________________________________________________________________\n",
            "batch_normalization_23 (Batc (None, 4, 30, 30, 64)     256       \n",
            "_________________________________________________________________\n",
            "max_pooling3d_17 (MaxPooling (None, 2, 15, 15, 64)     0         \n",
            "_________________________________________________________________\n",
            "conv3d_18 (Conv3D)           (None, 2, 15, 15, 128)    65664     \n",
            "_________________________________________________________________\n",
            "activation_18 (Activation)   (None, 2, 15, 15, 128)    0         \n",
            "_________________________________________________________________\n",
            "batch_normalization_24 (Batc (None, 2, 15, 15, 128)    512       \n",
            "_________________________________________________________________\n",
            "max_pooling3d_18 (MaxPooling (None, 1, 7, 7, 128)      0         \n",
            "_________________________________________________________________\n",
            "flatten_4 (Flatten)          (None, 6272)              0         \n",
            "_________________________________________________________________\n",
            "dense_12 (Dense)             (None, 256)               1605888   \n",
            "_________________________________________________________________\n",
            "batch_normalization_25 (Batc (None, 256)               1024      \n",
            "_________________________________________________________________\n",
            "dropout_8 (Dropout)          (None, 256)               0         \n",
            "_________________________________________________________________\n",
            "dense_13 (Dense)             (None, 256)               65792     \n",
            "_________________________________________________________________\n",
            "batch_normalization_26 (Batc (None, 256)               1024      \n",
            "_________________________________________________________________\n",
            "dropout_9 (Dropout)          (None, 256)               0         \n",
            "_________________________________________________________________\n",
            "dense_14 (Dense)             (None, 5)                 1285      \n",
            "=================================================================\n",
            "Total params: 1,762,613\n",
            "Trainable params: 1,761,109\n",
            "Non-trainable params: 1,504\n",
            "_________________________________________________________________\n"
          ],
          "name": "stdout"
        }
      ]
    },
    {
      "cell_type": "code",
      "metadata": {
        "colab": {
          "base_uri": "https://localhost:8080/"
        },
        "id": "dVguW56snkuS",
        "outputId": "ad2c1efd-e837-4638-a59e-5e90291920ce"
      },
      "source": [
        "history15 = model.fit_generator(train_generator, steps_per_epoch=steps_per_epoch, epochs=5, verbose=1, \n",
        "                    callbacks=callbacks_list, validation_data=val_generator, \n",
        "                    validation_steps=validation_steps, class_weight=None, workers=1, initial_epoch=0)"
      ],
      "execution_count": 29,
      "outputs": [
        {
          "output_type": "stream",
          "text": [
            "Source path =  /content/gdrive/MyDrive/Project_data/train ; batch size = 30\n",
            "Epoch 1/5\n",
            "23/23 [==============================] - ETA: 0s - loss: 2.1380 - categorical_accuracy: 0.3121Source path =  /content/gdrive/MyDrive/Project_data/val ; batch size = 30\n",
            "23/23 [==============================] - 247s 11s/step - loss: 2.1325 - categorical_accuracy: 0.3142 - val_loss: 1.8107 - val_categorical_accuracy: 0.2600\n",
            "Epoch 2/5\n",
            "23/23 [==============================] - 243s 11s/step - loss: 1.3766 - categorical_accuracy: 0.5118 - val_loss: 2.7935 - val_categorical_accuracy: 0.2300\n",
            "Epoch 3/5\n",
            "23/23 [==============================] - 239s 11s/step - loss: 1.2157 - categorical_accuracy: 0.5563 - val_loss: 3.5828 - val_categorical_accuracy: 0.1900\n",
            "\n",
            "Epoch 00003: ReduceLROnPlateau reducing learning rate to 3.9999998989515007e-05.\n",
            "Epoch 4/5\n",
            "23/23 [==============================] - 235s 11s/step - loss: 1.1874 - categorical_accuracy: 0.5672 - val_loss: 4.3473 - val_categorical_accuracy: 0.2250\n",
            "Epoch 5/5\n",
            "23/23 [==============================] - 244s 11s/step - loss: 1.2060 - categorical_accuracy: 0.5717 - val_loss: 4.7898 - val_categorical_accuracy: 0.2100\n",
            "\n",
            "Epoch 00005: ReduceLROnPlateau reducing learning rate to 7.999999797903002e-06.\n"
          ],
          "name": "stdout"
        }
      ]
    },
    {
      "cell_type": "code",
      "metadata": {
        "colab": {
          "base_uri": "https://localhost:8080/",
          "height": 266
        },
        "id": "4ijbbReFazfa",
        "outputId": "2d9ebaea-436d-4474-e819-b5f2ada20250"
      },
      "source": [
        "plot(history15)"
      ],
      "execution_count": 30,
      "outputs": [
        {
          "output_type": "display_data",
          "data": {
            "image/png": "[encoded data removed]",
            "text/plain": [
              "<Figure size 1080x288 with 2 Axes>"
            ]
          },
          "metadata": {
            "tags": [],
            "needs_background": "light"
          }
        }
      ]
    },
    {
      "cell_type": "code",
      "metadata": {
        "id": "voxk-MORI6df"
      },
      "source": [
        ""
      ],
      "execution_count": null,
      "outputs": []
    },
    {
      "cell_type": "markdown",
      "metadata": {
        "id": "Z6eNa6oiS-4Y"
      },
      "source": [
        "#Arunima"
      ]
    },
    {
      "cell_type": "code",
      "metadata": {
        "id": "uND3tugsSZdV"
      },
      "source": [
        "# Parameters initialization\n",
        "no_of_rows = 120   # X dimension of the image\n",
        "no_of_cols = 120   # Y dimesnion of the image\n",
        "no_of_frames = 30  # lenght of the video frames\n",
        "no_of_channels = 3 # numbe of channels in images 3 for color(RGB)"
      ],
      "execution_count": 13,
      "outputs": []
    },
    {
      "cell_type": "code",
      "metadata": {
        "id": "zAfZ6xEcSQRj"
      },
      "source": [
        "def load_batch_data(source_path, folder_list, batch_size, batch, t, model_type, validation=0):\n",
        "    if model_type == 'conv3D':\n",
        "        batch_data = np.zeros((batch_size, no_of_frames, no_of_rows, no_of_cols, no_of_channels)) # x is the number of images you use for each video, (y,z) is the final size of the input images and 3\n",
        "    else:\n",
        "        batch_data = np.zeros((batch_size, no_of_rows, no_of_cols, no_of_channels))\n",
        "    #print(batch_data.shape)\n",
        "    batch_labels = np.zeros((batch_size,5)) # batch_labels is the one hot representation of the output\n",
        "    img_idx = list(range(0,30,1)) #create a list of image numbers you want to use for a particular video\n",
        "    \n",
        "    for folder in range(batch_size): # iterate over the batch_size\n",
        "        # read all the images in the folder\n",
        "        imgs = os.listdir(source_path+'/'+ t[folder + (batch*batch_size)].split(';')[0]) \n",
        "        \n",
        "        for idx,item in enumerate(img_idx): #  Iterate iver the frames/images of a folder to read them in\n",
        "            #print(idx,item)\n",
        "            image = imread(source_path+'/'+ t[folder + (batch*batch_size)].strip().split(';')[0]+'/'+imgs[item]).astype(np.float32)\n",
        "               \n",
        "            #crop the images and resize them. Note that the images are of 2 different shape \n",
        "            #and the conv3D will throw error if the inputs in a batch have different shapes\n",
        "            #image = crop_image(image)\n",
        "            image = cv2.resize(image, (no_of_rows,no_of_cols), interpolation = cv2.INTER_AREA)\n",
        "            \n",
        "            normalizedImg = np.zeros((120, 120, 3))\n",
        "            normalizedImg = cv2.normalize(image, np.zeros((120, 120,3)) , 0, 1, cv2.NORM_MINMAX)\n",
        "            #print(normalizedImg.shape)\n",
        "            \n",
        "            if model_type == 'conv3D':\n",
        "                batch_data[folder,idx] = normalizedImg #normalise and feed in the image\n",
        "            else:\n",
        "                batch_data[folder] = normalizedImg\n",
        "         \n",
        "            batch_labels[folder, int(t[folder + (batch*batch_size)].strip().split(';')[2])] = 1\n",
        "            #print(batch_data.shape)\n",
        "            \n",
        "    return (batch_data,batch_labels)\n",
        "\n",
        "\n",
        "def generator(source_path, folder_list, batch_size, model_type, validation=0):\n",
        "    print( 'Source path = ', source_path, '; batch size =', batch_size)\n",
        "    \n",
        "    while True:\n",
        "        # t contains list of file name\n",
        "        # 'WIN_20180925_17_44_57_Pro_Thumbs_Down_new;Thumbs_Down_new;3\\n'\n",
        "        t = np.random.permutation(folder_list)\n",
        "        num_batches = len(folder_list)//batch_size # calculate the number of batches\n",
        "        for batch in range(num_batches): # we iterate over the number of batches\n",
        "            yield load_batch_data(source_path, folder_list, batch_size, batch, t, model_type) #you yield the batch_data and the batch_labels, remember what does yield do\n",
        "            \n",
        "        # write the code for the remaining data points which are left after full batches\n",
        "        remainder = len(folder_list) % batch_size\n",
        "        if (remainder > 0):\n",
        "            batch_size = remainder\n",
        "            yield load_batch_data(source_path, folder_list, batch_size, batch, t, model_type)"
      ],
      "execution_count": 14,
      "outputs": []
    },
    {
      "cell_type": "code",
      "metadata": {
        "id": "zCr0UfukSicB"
      },
      "source": [
        "#write your model here\n",
        "\n",
        "no_of_rows = 120   # X dimension of the image\n",
        "no_of_cols = 120   # Y dimesnion of the image\n",
        "no_of_frames = 30  # lenght of the video frames\n",
        "no_of_channels = 3 # numbe of channels in images 3 for color(RGB)\n",
        "\n",
        "# Input\n",
        "input_shape=(no_of_frames, no_of_rows, no_of_cols, no_of_channels)\n",
        "\n",
        "# Define model\n",
        "def conv3d_model():\n",
        "    model = Sequential()\n",
        "\n",
        "    model.add(Conv3D(8, kernel_size=(3,3,3), input_shape=input_shape, padding='same'))\n",
        "    model.add(BatchNormalization())\n",
        "    model.add(Activation('relu'))\n",
        "    model.add(MaxPooling3D(pool_size=(2,2,2)))\n",
        "\n",
        "    model.add(Conv3D(16, kernel_size=(3,3,3), padding='same'))\n",
        "    model.add(BatchNormalization())\n",
        "    model.add(Activation('relu'))\n",
        "    model.add(MaxPooling3D(pool_size=(2,2,2)))\n",
        "\n",
        "    model.add(Conv3D(32, kernel_size=(1,3,3), padding='same'))\n",
        "    model.add(BatchNormalization())\n",
        "    model.add(Activation('relu'))\n",
        "    model.add(MaxPooling3D(pool_size=(2,2,2)))\n",
        "\n",
        "    model.add(Conv3D(64, kernel_size=(1,3,3), padding='same'))\n",
        "    model.add(Activation('relu'))\n",
        "    model.add(Dropout(0.25))\n",
        "    model.add(MaxPooling3D(pool_size=(2,2,2)))\n",
        "\n",
        "    model.add(Flatten())\n",
        "\n",
        "    model.add(Dense(256, activation='relu'))\n",
        "    model.add(Dropout(0.5))\n",
        "\n",
        "    model.add(Dense(128, activation='relu', kernel_regularizer=l2(0.01)))\n",
        "    model.add(Dropout(0.5))\n",
        "\n",
        "    model.add(Dense(5, activation='softmax'))\n",
        "    \n",
        "    return model"
      ],
      "execution_count": 17,
      "outputs": []
    },
    {
      "cell_type": "code",
      "metadata": {
        "colab": {
          "base_uri": "https://localhost:8080/"
        },
        "id": "zkbtrXRVSlV1",
        "outputId": "7a6c84ad-cb98-40ce-e00b-f0e0150cdda8"
      },
      "source": [
        "from keras.optimizers import Nadam, Adam, SGD\n",
        "# optimiser = Adam() #write your optimizer\n",
        "optimiser = SGD(lr=0.01, decay=1e-6, momentum=0.9, nesterov=True)\n",
        "\n",
        "model = conv3d_model()\n",
        "model.compile(optimizer=optimiser, loss='mean_squared_error', metrics=['categorical_accuracy'])\n",
        "print (model.summary())"
      ],
      "execution_count": 18,
      "outputs": [
        {
          "output_type": "stream",
          "text": [
            "Model: \"sequential\"\n",
            "_________________________________________________________________\n",
            "Layer (type)                 Output Shape              Param #   \n",
            "=================================================================\n",
            "conv3d (Conv3D)              (None, 30, 120, 120, 8)   656       \n",
            "_________________________________________________________________\n",
            "batch_normalization (BatchNo (None, 30, 120, 120, 8)   32        \n",
            "_________________________________________________________________\n",
            "activation (Activation)      (None, 30, 120, 120, 8)   0         \n",
            "_________________________________________________________________\n",
            "max_pooling3d (MaxPooling3D) (None, 15, 60, 60, 8)     0         \n",
            "_________________________________________________________________\n",
            "conv3d_1 (Conv3D)            (None, 15, 60, 60, 16)    3472      \n",
            "_________________________________________________________________\n",
            "batch_normalization_1 (Batch (None, 15, 60, 60, 16)    64        \n",
            "_________________________________________________________________\n",
            "activation_1 (Activation)    (None, 15, 60, 60, 16)    0         \n",
            "_________________________________________________________________\n",
            "max_pooling3d_1 (MaxPooling3 (None, 7, 30, 30, 16)     0         \n",
            "_________________________________________________________________\n",
            "conv3d_2 (Conv3D)            (None, 7, 30, 30, 32)     4640      \n",
            "_________________________________________________________________\n",
            "batch_normalization_2 (Batch (None, 7, 30, 30, 32)     128       \n",
            "_________________________________________________________________\n",
            "activation_2 (Activation)    (None, 7, 30, 30, 32)     0         \n",
            "_________________________________________________________________\n",
            "max_pooling3d_2 (MaxPooling3 (None, 3, 15, 15, 32)     0         \n",
            "_________________________________________________________________\n",
            "conv3d_3 (Conv3D)            (None, 3, 15, 15, 64)     18496     \n",
            "_________________________________________________________________\n",
            "activation_3 (Activation)    (None, 3, 15, 15, 64)     0         \n",
            "_________________________________________________________________\n",
            "dropout (Dropout)            (None, 3, 15, 15, 64)     0         \n",
            "_________________________________________________________________\n",
            "max_pooling3d_3 (MaxPooling3 (None, 1, 7, 7, 64)       0         \n",
            "_________________________________________________________________\n",
            "flatten (Flatten)            (None, 3136)              0         \n",
            "_________________________________________________________________\n",
            "dense (Dense)                (None, 256)               803072    \n",
            "_________________________________________________________________\n",
            "dropout_1 (Dropout)          (None, 256)               0         \n",
            "_________________________________________________________________\n",
            "dense_1 (Dense)              (None, 128)               32896     \n",
            "_________________________________________________________________\n",
            "dropout_2 (Dropout)          (None, 128)               0         \n",
            "_________________________________________________________________\n",
            "dense_2 (Dense)              (None, 5)                 645       \n",
            "=================================================================\n",
            "Total params: 864,101\n",
            "Trainable params: 863,989\n",
            "Non-trainable params: 112\n",
            "_________________________________________________________________\n",
            "None\n"
          ],
          "name": "stdout"
        }
      ]
    },
    {
      "cell_type": "code",
      "metadata": {
        "id": "1j-5CA9YSpEA"
      },
      "source": [
        "train_generator = generator(train_path, train_doc, 25, 'conv3D')\n",
        "val_generator = generator(val_path, val_doc, 25, 'conv3D')"
      ],
      "execution_count": 15,
      "outputs": []
    },
    {
      "cell_type": "code",
      "metadata": {
        "colab": {
          "base_uri": "https://localhost:8080/"
        },
        "id": "FlRx9FVlSwH2",
        "outputId": "1afc8f11-3457-471e-af4d-62300b175eff"
      },
      "source": [
        "#batch_size = 10\n",
        "num_epochs = 25\n",
        "history22 = model.fit_generator(train_generator, steps_per_epoch=steps_per_epoch, epochs=num_epochs, verbose=1, \n",
        "                    callbacks=callbacks_list, validation_data=val_generator, \n",
        "                    validation_steps=validation_steps, class_weight=None, workers=1, initial_epoch=0)"
      ],
      "execution_count": 21,
      "outputs": [
        {
          "output_type": "stream",
          "text": [
            "Source path =  /content/gdrive/MyDrive/Project_data/train ; batch size = 25\n",
            "Epoch 1/25\n",
            "27/27 [==============================] - ETA: 0s - loss: 1.9341 - categorical_accuracy: 0.1778  Source path =  /content/gdrive/MyDrive/Project_data/val ; batch size = 25\n",
            "27/27 [==============================] - 5086s 194s/step - loss: 1.9322 - categorical_accuracy: 0.1789 - val_loss: 1.7469 - val_categorical_accuracy: 0.1900\n",
            "Epoch 2/25\n",
            "27/27 [==============================] - 431s 16s/step - loss: 1.7169 - categorical_accuracy: 0.2436 - val_loss: 1.5829 - val_categorical_accuracy: 0.2600\n",
            "Epoch 3/25\n",
            "27/27 [==============================] - 427s 16s/step - loss: 1.5495 - categorical_accuracy: 0.2427 - val_loss: 1.4341 - val_categorical_accuracy: 0.2500\n",
            "Epoch 4/25\n",
            "27/27 [==============================] - 432s 16s/step - loss: 1.3979 - categorical_accuracy: 0.2852 - val_loss: 1.3011 - val_categorical_accuracy: 0.3200\n",
            "Epoch 5/25\n",
            "27/27 [==============================] - 432s 16s/step - loss: 1.2669 - categorical_accuracy: 0.3325 - val_loss: 1.1821 - val_categorical_accuracy: 0.2400\n",
            "Epoch 6/25\n",
            "27/27 [==============================] - 435s 16s/step - loss: 1.1477 - categorical_accuracy: 0.3642 - val_loss: 1.0760 - val_categorical_accuracy: 0.2200\n",
            "Epoch 7/25\n",
            "27/27 [==============================] - 429s 16s/step - loss: 1.0421 - categorical_accuracy: 0.4090 - val_loss: 0.9802 - val_categorical_accuracy: 0.1900\n",
            "Epoch 8/25\n",
            "27/27 [==============================] - 438s 16s/step - loss: 0.9401 - categorical_accuracy: 0.3789 - val_loss: 0.8920 - val_categorical_accuracy: 0.2600\n",
            "Epoch 9/25\n",
            "27/27 [==============================] - 437s 16s/step - loss: 0.8587 - categorical_accuracy: 0.4062 - val_loss: 0.8163 - val_categorical_accuracy: 0.3100\n",
            "Epoch 10/25\n",
            "27/27 [==============================] - 428s 16s/step - loss: 0.7861 - categorical_accuracy: 0.3654 - val_loss: 0.7450 - val_categorical_accuracy: 0.3200\n",
            "Epoch 11/25\n",
            "27/27 [==============================] - 434s 16s/step - loss: 0.7126 - categorical_accuracy: 0.4471 - val_loss: 0.6932 - val_categorical_accuracy: 0.2400\n",
            "Epoch 12/25\n",
            "27/27 [==============================] - 435s 16s/step - loss: 0.6513 - categorical_accuracy: 0.4536 - val_loss: 0.6444 - val_categorical_accuracy: 0.1900\n",
            "Epoch 13/25\n",
            "27/27 [==============================] - 432s 16s/step - loss: 0.5916 - categorical_accuracy: 0.4821 - val_loss: 0.5821 - val_categorical_accuracy: 0.3200\n",
            "Epoch 14/25\n",
            "27/27 [==============================] - 437s 16s/step - loss: 0.5417 - categorical_accuracy: 0.4928 - val_loss: 0.5344 - val_categorical_accuracy: 0.3500\n",
            "Epoch 15/25\n",
            "27/27 [==============================] - 440s 16s/step - loss: 0.4915 - categorical_accuracy: 0.5836 - val_loss: 0.4939 - val_categorical_accuracy: 0.4000\n",
            "Epoch 16/25\n",
            "27/27 [==============================] - 440s 16s/step - loss: 0.4479 - categorical_accuracy: 0.5729 - val_loss: 0.4492 - val_categorical_accuracy: 0.4000\n",
            "Epoch 17/25\n",
            "27/27 [==============================] - 436s 16s/step - loss: 0.4069 - categorical_accuracy: 0.6141 - val_loss: 0.4097 - val_categorical_accuracy: 0.4900\n",
            "Epoch 18/25\n",
            "27/27 [==============================] - 435s 16s/step - loss: 0.3734 - categorical_accuracy: 0.6443 - val_loss: 0.3651 - val_categorical_accuracy: 0.5900\n",
            "Epoch 19/25\n",
            "27/27 [==============================] - 434s 16s/step - loss: 0.3512 - categorical_accuracy: 0.6116 - val_loss: 0.3462 - val_categorical_accuracy: 0.5400\n",
            "Epoch 20/25\n",
            "27/27 [==============================] - 427s 16s/step - loss: 0.3192 - categorical_accuracy: 0.6075 - val_loss: 0.3069 - val_categorical_accuracy: 0.6300\n",
            "Epoch 21/25\n",
            "27/27 [==============================] - 437s 16s/step - loss: 0.2838 - categorical_accuracy: 0.6819 - val_loss: 0.2868 - val_categorical_accuracy: 0.6400\n",
            "Epoch 22/25\n",
            "27/27 [==============================] - 437s 16s/step - loss: 0.2727 - categorical_accuracy: 0.6788 - val_loss: 0.2757 - val_categorical_accuracy: 0.5400\n",
            "Epoch 23/25\n",
            "27/27 [==============================] - 440s 16s/step - loss: 0.2419 - categorical_accuracy: 0.7092 - val_loss: 0.2282 - val_categorical_accuracy: 0.7100\n",
            "Epoch 24/25\n",
            "27/27 [==============================] - 431s 16s/step - loss: 0.2245 - categorical_accuracy: 0.7320 - val_loss: 0.2509 - val_categorical_accuracy: 0.5800\n",
            "Epoch 25/25\n",
            "27/27 [==============================] - 432s 16s/step - loss: 0.2095 - categorical_accuracy: 0.7222 - val_loss: 0.2122 - val_categorical_accuracy: 0.7100\n"
          ],
          "name": "stdout"
        }
      ]
    },
    {
      "cell_type": "code",
      "metadata": {
        "colab": {
          "base_uri": "https://localhost:8080/",
          "height": 265
        },
        "id": "aI_To1ZwbQUR",
        "outputId": "020490c9-36a8-491d-85c2-73f277186be7"
      },
      "source": [
        "plot(history22)"
      ],
      "execution_count": 22,
      "outputs": [
        {
          "output_type": "display_data",
          "data": {
            "image/png": "[encoded data removed]",
            "text/plain": [
              "<Figure size 1080x288 with 2 Axes>"
            ]
          },
          "metadata": {
            "tags": [],
            "needs_background": "light"
          }
        }
      ]
    },
    {
      "cell_type": "code",
      "metadata": {
        "id": "FRKtcdoxbTr6"
      },
      "source": [
        ""
      ],
      "execution_count": null,
      "outputs": []
    }
  ]
}